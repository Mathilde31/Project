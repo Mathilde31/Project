{
 "cells": [
  {
   "cell_type": "code",
   "execution_count": 117,
   "metadata": {},
   "outputs": [],
   "source": [
    "import pandas as pd\n",
    "import matplotlib.pyplot as plt\n",
    "import numpy as np\n",
    "import bokeh\n",
    "from bokeh.io import output_file, output_notebook\n",
    "from bokeh.plotting import figure, show\n",
    "from bokeh.models import ColumnDataSource\n",
    "from bokeh.layouts import row, column, gridplot\n",
    "from bokeh.models.widgets import Tabs, Panel\n",
    "from bokeh.io import output_file\n",
    "from bokeh.plotting import figure, show\n",
    "from bokeh.io import output_notebook\n",
    "from bokeh.models import ColumnDataSource, NumeralTickFormatter\n",
    "from bokeh.models import BoxSelectTool\n",
    "from bokeh.models import HoverTool\n",
    "from bokeh.models import ColorBar, ColumnDataSource\n",
    "from bokeh.palettes import Spectral6\n",
    "from bokeh.plotting import figure, output_file, show\n",
    "from bokeh.transform import linear_cmap\n",
    "from bokeh.models import BoxAnnotation, Toggle\n",
    "from bokeh.layouts import layout"
   ]
  },
  {
   "cell_type": "code",
   "execution_count": 16,
   "metadata": {},
   "outputs": [],
   "source": [
    "data_at = pd.read_csv('at.csv')\n",
    "data_be = pd.read_csv('be.csv')\n",
    "data_ch = pd.read_csv('ch.csv')\n",
    "data_de = pd.read_csv('de.csv')\n",
    "data_dk = pd.read_csv('dk.csv')\n",
    "data_es = pd.read_csv('es.csv')\n",
    "data_fr = pd.read_csv('fr.csv')\n",
    "data_gb = pd.read_csv('gb.csv')\n",
    "data_ie = pd.read_csv('ie.csv')\n",
    "data_it = pd.read_csv('it.csv')\n",
    "data_lu = pd.read_csv('lu.csv')\n",
    "data_nl = pd.read_csv('nl.csv')\n",
    "data_no = pd.read_csv('no.csv')\n",
    "data_pt = pd.read_csv('pt.csv')\n",
    "data_se = pd.read_csv('se.csv')"
   ]
  },
  {
   "cell_type": "code",
   "execution_count": 17,
   "metadata": {},
   "outputs": [],
   "source": [
    "df_dict = {'at':data_at, 'be':data_be, 'ch':data_ch, 'de':data_de, 'dk':data_dk, 'es':data_es, 'fr':data_fr,\n",
    "          'gb':data_gb, 'ie':data_ie, 'it':data_it, 'lu':data_lu, 'nl':data_nl, 'no':data_no, 'pt':data_pt,\n",
    "          'se':data_se}"
   ]
  },
  {
   "cell_type": "code",
   "execution_count": 18,
   "metadata": {},
   "outputs": [],
   "source": [
    "df_dict_rework= {}\n",
    "for name in df_dict:\n",
    "    df = df_dict[name]\n",
    "    df['start']= pd.to_datetime(df['start'])\n",
    "    df['end']= pd.to_datetime(df['end'])\n",
    "    df['start']=df['start'].apply(lambda x : x.replace(microsecond=0, second=0, minute=0))\n",
    "    df['hour']=df['start'].apply(lambda x : x.hour)\n",
    "    df_dict_rework[name]=df"
   ]
  },
  {
   "cell_type": "code",
   "execution_count": 19,
   "metadata": {},
   "outputs": [
    {
     "data": {
      "text/html": [
       "<div>\n",
       "<style scoped>\n",
       "    .dataframe tbody tr th:only-of-type {\n",
       "        vertical-align: middle;\n",
       "    }\n",
       "\n",
       "    .dataframe tbody tr th {\n",
       "        vertical-align: top;\n",
       "    }\n",
       "\n",
       "    .dataframe thead th {\n",
       "        text-align: right;\n",
       "    }\n",
       "</style>\n",
       "<table border=\"1\" class=\"dataframe\">\n",
       "  <thead>\n",
       "    <tr style=\"text-align: right;\">\n",
       "      <th></th>\n",
       "      <th>start</th>\n",
       "      <th>end</th>\n",
       "      <th>load</th>\n",
       "      <th>hour</th>\n",
       "    </tr>\n",
       "  </thead>\n",
       "  <tbody>\n",
       "    <tr>\n",
       "      <th>0</th>\n",
       "      <td>2015-01-01 00:00:00+00:00</td>\n",
       "      <td>2015-01-01 01:00:00+00:00</td>\n",
       "      <td>14726.0</td>\n",
       "      <td>0</td>\n",
       "    </tr>\n",
       "    <tr>\n",
       "      <th>1</th>\n",
       "      <td>2015-01-01 01:00:00+00:00</td>\n",
       "      <td>2015-01-01 02:00:00+00:00</td>\n",
       "      <td>14485.0</td>\n",
       "      <td>1</td>\n",
       "    </tr>\n",
       "    <tr>\n",
       "      <th>2</th>\n",
       "      <td>2015-01-01 02:00:00+00:00</td>\n",
       "      <td>2015-01-01 03:00:00+00:00</td>\n",
       "      <td>14298.0</td>\n",
       "      <td>2</td>\n",
       "    </tr>\n",
       "    <tr>\n",
       "      <th>3</th>\n",
       "      <td>2015-01-01 03:00:00+00:00</td>\n",
       "      <td>2015-01-01 04:00:00+00:00</td>\n",
       "      <td>14249.0</td>\n",
       "      <td>3</td>\n",
       "    </tr>\n",
       "    <tr>\n",
       "      <th>4</th>\n",
       "      <td>2015-01-01 04:00:00+00:00</td>\n",
       "      <td>2015-01-01 05:00:00+00:00</td>\n",
       "      <td>14268.0</td>\n",
       "      <td>4</td>\n",
       "    </tr>\n",
       "    <tr>\n",
       "      <th>...</th>\n",
       "      <td>...</td>\n",
       "      <td>...</td>\n",
       "      <td>...</td>\n",
       "      <td>...</td>\n",
       "    </tr>\n",
       "    <tr>\n",
       "      <th>48882</th>\n",
       "      <td>2020-07-31 19:00:00+00:00</td>\n",
       "      <td>2020-07-31 20:00:00+00:00</td>\n",
       "      <td>11880.0</td>\n",
       "      <td>19</td>\n",
       "    </tr>\n",
       "    <tr>\n",
       "      <th>48883</th>\n",
       "      <td>2020-07-31 20:00:00+00:00</td>\n",
       "      <td>2020-07-31 21:00:00+00:00</td>\n",
       "      <td>11666.0</td>\n",
       "      <td>20</td>\n",
       "    </tr>\n",
       "    <tr>\n",
       "      <th>48884</th>\n",
       "      <td>2020-07-31 21:00:00+00:00</td>\n",
       "      <td>2020-07-31 22:00:00+00:00</td>\n",
       "      <td>10977.0</td>\n",
       "      <td>21</td>\n",
       "    </tr>\n",
       "    <tr>\n",
       "      <th>48885</th>\n",
       "      <td>2020-07-31 22:00:00+00:00</td>\n",
       "      <td>2020-07-31 23:00:00+00:00</td>\n",
       "      <td>10430.0</td>\n",
       "      <td>22</td>\n",
       "    </tr>\n",
       "    <tr>\n",
       "      <th>48886</th>\n",
       "      <td>2020-07-31 23:00:00+00:00</td>\n",
       "      <td>2020-08-01 00:00:00+00:00</td>\n",
       "      <td>10152.0</td>\n",
       "      <td>23</td>\n",
       "    </tr>\n",
       "  </tbody>\n",
       "</table>\n",
       "<p>48887 rows × 4 columns</p>\n",
       "</div>"
      ],
      "text/plain": [
       "                          start                       end     load  hour\n",
       "0     2015-01-01 00:00:00+00:00 2015-01-01 01:00:00+00:00  14726.0     0\n",
       "1     2015-01-01 01:00:00+00:00 2015-01-01 02:00:00+00:00  14485.0     1\n",
       "2     2015-01-01 02:00:00+00:00 2015-01-01 03:00:00+00:00  14298.0     2\n",
       "3     2015-01-01 03:00:00+00:00 2015-01-01 04:00:00+00:00  14249.0     3\n",
       "4     2015-01-01 04:00:00+00:00 2015-01-01 05:00:00+00:00  14268.0     4\n",
       "...                         ...                       ...      ...   ...\n",
       "48882 2020-07-31 19:00:00+00:00 2020-07-31 20:00:00+00:00  11880.0    19\n",
       "48883 2020-07-31 20:00:00+00:00 2020-07-31 21:00:00+00:00  11666.0    20\n",
       "48884 2020-07-31 21:00:00+00:00 2020-07-31 22:00:00+00:00  10977.0    21\n",
       "48885 2020-07-31 22:00:00+00:00 2020-07-31 23:00:00+00:00  10430.0    22\n",
       "48886 2020-07-31 23:00:00+00:00 2020-08-01 00:00:00+00:00  10152.0    23\n",
       "\n",
       "[48887 rows x 4 columns]"
      ]
     },
     "execution_count": 19,
     "metadata": {},
     "output_type": "execute_result"
    }
   ],
   "source": [
    "df_dict_rework[name]"
   ]
  },
  {
   "cell_type": "code",
   "execution_count": 20,
   "metadata": {},
   "outputs": [],
   "source": [
    "serie_dict_grouped = {}\n",
    "for name in df_dict_rework:\n",
    "    df = df_dict_rework[name]\n",
    "    df = df.groupby(['start']).sum('load').reset_index()\n",
    "    serie = df.set_index('start')['load']\n",
    "    serie.name = name\n",
    "    serie_dict_grouped[name] = serie"
   ]
  },
  {
   "cell_type": "code",
   "execution_count": 21,
   "metadata": {},
   "outputs": [],
   "source": [
    "final_df = pd.DataFrame(serie_dict_grouped)"
   ]
  },
  {
   "cell_type": "code",
   "execution_count": 22,
   "metadata": {},
   "outputs": [
    {
     "data": {
      "text/html": [
       "<div>\n",
       "<style scoped>\n",
       "    .dataframe tbody tr th:only-of-type {\n",
       "        vertical-align: middle;\n",
       "    }\n",
       "\n",
       "    .dataframe tbody tr th {\n",
       "        vertical-align: top;\n",
       "    }\n",
       "\n",
       "    .dataframe thead th {\n",
       "        text-align: right;\n",
       "    }\n",
       "</style>\n",
       "<table border=\"1\" class=\"dataframe\">\n",
       "  <thead>\n",
       "    <tr style=\"text-align: right;\">\n",
       "      <th></th>\n",
       "      <th>at</th>\n",
       "      <th>be</th>\n",
       "      <th>ch</th>\n",
       "      <th>de</th>\n",
       "      <th>dk</th>\n",
       "      <th>es</th>\n",
       "      <th>fr</th>\n",
       "      <th>gb</th>\n",
       "      <th>ie</th>\n",
       "      <th>it</th>\n",
       "      <th>lu</th>\n",
       "      <th>nl</th>\n",
       "      <th>no</th>\n",
       "      <th>pt</th>\n",
       "      <th>se</th>\n",
       "    </tr>\n",
       "    <tr>\n",
       "      <th>start</th>\n",
       "      <th></th>\n",
       "      <th></th>\n",
       "      <th></th>\n",
       "      <th></th>\n",
       "      <th></th>\n",
       "      <th></th>\n",
       "      <th></th>\n",
       "      <th></th>\n",
       "      <th></th>\n",
       "      <th></th>\n",
       "      <th></th>\n",
       "      <th></th>\n",
       "      <th></th>\n",
       "      <th></th>\n",
       "      <th></th>\n",
       "    </tr>\n",
       "  </thead>\n",
       "  <tbody>\n",
       "    <tr>\n",
       "      <th>2015-01-01 00:00:00+00:00</th>\n",
       "      <td>23854.0</td>\n",
       "      <td>38208.0</td>\n",
       "      <td>7632.0</td>\n",
       "      <td>165370.0</td>\n",
       "      <td>3211.0</td>\n",
       "      <td>24382.0</td>\n",
       "      <td>70929.0</td>\n",
       "      <td>53881.0</td>\n",
       "      <td>5735.0</td>\n",
       "      <td>23126.0</td>\n",
       "      <td>1615.0</td>\n",
       "      <td>37824.0</td>\n",
       "      <td>15471.0</td>\n",
       "      <td>5341.0</td>\n",
       "      <td>14726.0</td>\n",
       "    </tr>\n",
       "    <tr>\n",
       "      <th>2015-01-01 01:00:00+00:00</th>\n",
       "      <td>22905.0</td>\n",
       "      <td>36607.0</td>\n",
       "      <td>7640.0</td>\n",
       "      <td>160540.0</td>\n",
       "      <td>3100.0</td>\n",
       "      <td>22734.0</td>\n",
       "      <td>69773.0</td>\n",
       "      <td>54331.0</td>\n",
       "      <td>5356.0</td>\n",
       "      <td>21534.0</td>\n",
       "      <td>1533.0</td>\n",
       "      <td>35827.0</td>\n",
       "      <td>15105.0</td>\n",
       "      <td>5124.0</td>\n",
       "      <td>14485.0</td>\n",
       "    </tr>\n",
       "    <tr>\n",
       "      <th>2015-01-01 02:00:00+00:00</th>\n",
       "      <td>21388.0</td>\n",
       "      <td>35194.0</td>\n",
       "      <td>7391.0</td>\n",
       "      <td>156424.0</td>\n",
       "      <td>2980.0</td>\n",
       "      <td>21286.0</td>\n",
       "      <td>66417.0</td>\n",
       "      <td>48943.0</td>\n",
       "      <td>4865.0</td>\n",
       "      <td>20219.0</td>\n",
       "      <td>1480.0</td>\n",
       "      <td>33846.0</td>\n",
       "      <td>14883.0</td>\n",
       "      <td>4771.0</td>\n",
       "      <td>14298.0</td>\n",
       "    </tr>\n",
       "    <tr>\n",
       "      <th>2015-01-01 03:00:00+00:00</th>\n",
       "      <td>20996.0</td>\n",
       "      <td>34268.0</td>\n",
       "      <td>7333.0</td>\n",
       "      <td>155060.0</td>\n",
       "      <td>2933.0</td>\n",
       "      <td>20264.0</td>\n",
       "      <td>64182.0</td>\n",
       "      <td>46006.0</td>\n",
       "      <td>4552.0</td>\n",
       "      <td>19470.0</td>\n",
       "      <td>1455.0</td>\n",
       "      <td>32624.0</td>\n",
       "      <td>14755.0</td>\n",
       "      <td>4444.0</td>\n",
       "      <td>14249.0</td>\n",
       "    </tr>\n",
       "    <tr>\n",
       "      <th>2015-01-01 04:00:00+00:00</th>\n",
       "      <td>21234.0</td>\n",
       "      <td>33950.0</td>\n",
       "      <td>7002.0</td>\n",
       "      <td>155766.0</td>\n",
       "      <td>2942.0</td>\n",
       "      <td>19905.0</td>\n",
       "      <td>63859.0</td>\n",
       "      <td>43664.0</td>\n",
       "      <td>4347.0</td>\n",
       "      <td>19485.0</td>\n",
       "      <td>1415.0</td>\n",
       "      <td>32504.0</td>\n",
       "      <td>14903.0</td>\n",
       "      <td>4235.0</td>\n",
       "      <td>14268.0</td>\n",
       "    </tr>\n",
       "  </tbody>\n",
       "</table>\n",
       "</div>"
      ],
      "text/plain": [
       "                                at       be      ch        de      dk  \\\n",
       "start                                                                   \n",
       "2015-01-01 00:00:00+00:00  23854.0  38208.0  7632.0  165370.0  3211.0   \n",
       "2015-01-01 01:00:00+00:00  22905.0  36607.0  7640.0  160540.0  3100.0   \n",
       "2015-01-01 02:00:00+00:00  21388.0  35194.0  7391.0  156424.0  2980.0   \n",
       "2015-01-01 03:00:00+00:00  20996.0  34268.0  7333.0  155060.0  2933.0   \n",
       "2015-01-01 04:00:00+00:00  21234.0  33950.0  7002.0  155766.0  2942.0   \n",
       "\n",
       "                                es       fr       gb      ie       it      lu  \\\n",
       "start                                                                           \n",
       "2015-01-01 00:00:00+00:00  24382.0  70929.0  53881.0  5735.0  23126.0  1615.0   \n",
       "2015-01-01 01:00:00+00:00  22734.0  69773.0  54331.0  5356.0  21534.0  1533.0   \n",
       "2015-01-01 02:00:00+00:00  21286.0  66417.0  48943.0  4865.0  20219.0  1480.0   \n",
       "2015-01-01 03:00:00+00:00  20264.0  64182.0  46006.0  4552.0  19470.0  1455.0   \n",
       "2015-01-01 04:00:00+00:00  19905.0  63859.0  43664.0  4347.0  19485.0  1415.0   \n",
       "\n",
       "                                nl       no      pt       se  \n",
       "start                                                         \n",
       "2015-01-01 00:00:00+00:00  37824.0  15471.0  5341.0  14726.0  \n",
       "2015-01-01 01:00:00+00:00  35827.0  15105.0  5124.0  14485.0  \n",
       "2015-01-01 02:00:00+00:00  33846.0  14883.0  4771.0  14298.0  \n",
       "2015-01-01 03:00:00+00:00  32624.0  14755.0  4444.0  14249.0  \n",
       "2015-01-01 04:00:00+00:00  32504.0  14903.0  4235.0  14268.0  "
      ]
     },
     "execution_count": 22,
     "metadata": {},
     "output_type": "execute_result"
    }
   ],
   "source": [
    "final_df.head()"
   ]
  },
  {
   "cell_type": "code",
   "execution_count": 23,
   "metadata": {},
   "outputs": [],
   "source": [
    "df_plot = final_df.reset_index()"
   ]
  },
  {
   "cell_type": "code",
   "execution_count": 24,
   "metadata": {},
   "outputs": [],
   "source": [
    "df_plot['date'] = pd.to_datetime(df_plot['start']).dt.date\n",
    "df_plot['hour'] = pd.to_datetime(df_plot['start']).dt.hour"
   ]
  },
  {
   "cell_type": "code",
   "execution_count": 25,
   "metadata": {},
   "outputs": [],
   "source": [
    "df_hour = df_plot.groupby(['hour']).mean()"
   ]
  },
  {
   "cell_type": "code",
   "execution_count": 26,
   "metadata": {},
   "outputs": [
    {
     "data": {
      "text/plain": [
       "<matplotlib.axes._subplots.AxesSubplot at 0x7f2d37da8700>"
      ]
     },
     "execution_count": 26,
     "metadata": {},
     "output_type": "execute_result"
    },
    {
     "data": {
      "image/png": "[encoded data removed]",
      "text/plain": [
       "<Figure size 432x288 with 1 Axes>"
      ]
     },
     "metadata": {
      "needs_background": "light"
     },
     "output_type": "display_data"
    }
   ],
   "source": [
    "# Variations of consumption during the day\n",
    "\n",
    "for column in df_hour : \n",
    "    df_hour[column] = df_hour[column] / df_hour[column].mean()\n",
    "\n",
    "df_hour.plot(kind='line')"
   ]
  },
  {
   "cell_type": "code",
   "execution_count": 27,
   "metadata": {},
   "outputs": [
    {
     "data": {
      "text/plain": [
       "<matplotlib.axes._subplots.AxesSubplot at 0x7f2d3ec5e850>"
      ]
     },
     "execution_count": 27,
     "metadata": {},
     "output_type": "execute_result"
    },
    {
     "data": {
      "image/png": "[encoded data removed]",
      "text/plain": [
       "<Figure size 432x288 with 1 Axes>"
      ]
     },
     "metadata": {
      "needs_background": "light"
     },
     "output_type": "display_data"
    }
   ],
   "source": [
    "df_hour_loads = df_plot.groupby(['hour']).mean()\n",
    "\n",
    "# Variations of consumption per country in values\n",
    "names = ['France', 'Great Britain', 'Germany']\n",
    "\n",
    "df_hour_loads['fr'].plot(kind='line', color= 'blue')\n",
    "df_hour_loads['gb'].plot(kind='line', color='red')\n",
    "df_hour_loads['de'].plot(kind='line', title='Comparison of consumption', color='yellow')"
   ]
  },
  {
   "cell_type": "code",
   "execution_count": 60,
   "metadata": {},
   "outputs": [],
   "source": [
    "df_hour2 = df_hour.reset_index()"
   ]
  },
  {
   "cell_type": "code",
   "execution_count": 61,
   "metadata": {},
   "outputs": [],
   "source": [
    "fr = df_hour2['fr'].values\n",
    "es = df_hour2['es'].values"
   ]
  },
  {
   "cell_type": "code",
   "execution_count": 62,
   "metadata": {},
   "outputs": [],
   "source": [
    "hour= df_hour2['hour'].values"
   ]
  },
  {
   "cell_type": "code",
   "execution_count": 66,
   "metadata": {},
   "outputs": [
    {
     "data": {
      "text/html": [
       "\n",
       "    <div class=\"bk-root\">\n",
       "        <a href=\"https://bokeh.org\" target=\"_blank\" class=\"bk-logo bk-logo-small bk-logo-notebook\"></a>\n",
       "        <span id=\"4093\">Loading BokehJS ...</span>\n",
       "    </div>"
      ]
     },
     "metadata": {},
     "output_type": "display_data"
    },
    {
     "data": {
      "application/javascript": [
       "\n",
       "(function(root) {\n",
       "  function now() {\n",
       "    return new Date();\n",
       "  }\n",
       "\n",
       "  var force = true;\n",
       "\n",
       "  if (typeof root._bokeh_onload_callbacks === \"undefined\" || force === true) {\n",
       "    root._bokeh_onload_callbacks = [];\n",
       "    root._bokeh_is_loading = undefined;\n",
       "  }\n",
       "\n",
       "  var JS_MIME_TYPE = 'application/javascript';\n",
       "  var HTML_MIME_TYPE = 'text/html';\n",
       "  var EXEC_MIME_TYPE = 'application/vnd.bokehjs_exec.v0+json';\n",
       "  var CLASS_NAME = 'output_bokeh rendered_html';\n",
       "\n",
       "  /**\n",
       "   * Render data to the DOM node\n",
       "   */\n",
       "  function render(props, node) {\n",
       "    var script = document.createElement(\"script\");\n",
       "    node.appendChild(script);\n",
       "  }\n",
       "\n",
       "  /**\n",
       "   * Handle when an output is cleared or removed\n",
       "   */\n",
       "  function handleClearOutput(event, handle) {\n",
       "    var cell = handle.cell;\n",
       "\n",
       "    var id = cell.output_area._bokeh_element_id;\n",
       "    var server_id = cell.output_area._bokeh_server_id;\n",
       "    // Clean up Bokeh references\n",
       "    if (id != null && id in Bokeh.index) {\n",
       "      Bokeh.index[id].model.document.clear();\n",
       "      delete Bokeh.index[id];\n",
       "    }\n",
       "\n",
       "    if (server_id !== undefined) {\n",
       "      // Clean up Bokeh references\n",
       "      var cmd = \"from bokeh.io.state import curstate; print(curstate().uuid_to_server['\" + server_id + \"'].get_sessions()[0].document.roots[0]._id)\";\n",
       "      cell.notebook.kernel.execute(cmd, {\n",
       "        iopub: {\n",
       "          output: function(msg) {\n",
       "            var id = msg.content.text.trim();\n",
       "            if (id in Bokeh.index) {\n",
       "              Bokeh.index[id].model.document.clear();\n",
       "              delete Bokeh.index[id];\n",
       "            }\n",
       "          }\n",
       "        }\n",
       "      });\n",
       "      // Destroy server and session\n",
       "      var cmd = \"import bokeh.io.notebook as ion; ion.destroy_server('\" + server_id + \"')\";\n",
       "      cell.notebook.kernel.execute(cmd);\n",
       "    }\n",
       "  }\n",
       "\n",
       "  /**\n",
       "   * Handle when a new output is added\n",
       "   */\n",
       "  function handleAddOutput(event, handle) {\n",
       "    var output_area = handle.output_area;\n",
       "    var output = handle.output;\n",
       "\n",
       "    // limit handleAddOutput to display_data with EXEC_MIME_TYPE content only\n",
       "    if ((output.output_type != \"display_data\") || (!output.data.hasOwnProperty(EXEC_MIME_TYPE))) {\n",
       "      return\n",
       "    }\n",
       "\n",
       "    var toinsert = output_area.element.find(\".\" + CLASS_NAME.split(' ')[0]);\n",
       "\n",
       "    if (output.metadata[EXEC_MIME_TYPE][\"id\"] !== undefined) {\n",
       "      toinsert[toinsert.length - 1].firstChild.textContent = output.data[JS_MIME_TYPE];\n",
       "      // store reference to embed id on output_area\n",
       "      output_area._bokeh_element_id = output.metadata[EXEC_MIME_TYPE][\"id\"];\n",
       "    }\n",
       "    if (output.metadata[EXEC_MIME_TYPE][\"server_id\"] !== undefined) {\n",
       "      var bk_div = document.createElement(\"div\");\n",
       "      bk_div.innerHTML = output.data[HTML_MIME_TYPE];\n",
       "      var script_attrs = bk_div.children[0].attributes;\n",
       "      for (var i = 0; i < script_attrs.length; i++) {\n",
       "        toinsert[toinsert.length - 1].firstChild.setAttribute(script_attrs[i].name, script_attrs[i].value);\n",
       "        toinsert[toinsert.length - 1].firstChild.textContent = bk_div.children[0].textContent\n",
       "      }\n",
       "      // store reference to server id on output_area\n",
       "      output_area._bokeh_server_id = output.metadata[EXEC_MIME_TYPE][\"server_id\"];\n",
       "    }\n",
       "  }\n",
       "\n",
       "  function register_renderer(events, OutputArea) {\n",
       "\n",
       "    function append_mime(data, metadata, element) {\n",
       "      // create a DOM node to render to\n",
       "      var toinsert = this.create_output_subarea(\n",
       "        metadata,\n",
       "        CLASS_NAME,\n",
       "        EXEC_MIME_TYPE\n",
       "      );\n",
       "      this.keyboard_manager.register_events(toinsert);\n",
       "      // Render to node\n",
       "      var props = {data: data, metadata: metadata[EXEC_MIME_TYPE]};\n",
       "      render(props, toinsert[toinsert.length - 1]);\n",
       "      element.append(toinsert);\n",
       "      return toinsert\n",
       "    }\n",
       "\n",
       "    /* Handle when an output is cleared or removed */\n",
       "    events.on('clear_output.CodeCell', handleClearOutput);\n",
       "    events.on('delete.Cell', handleClearOutput);\n",
       "\n",
       "    /* Handle when a new output is added */\n",
       "    events.on('output_added.OutputArea', handleAddOutput);\n",
       "\n",
       "    /**\n",
       "     * Register the mime type and append_mime function with output_area\n",
       "     */\n",
       "    OutputArea.prototype.register_mime_type(EXEC_MIME_TYPE, append_mime, {\n",
       "      /* Is output safe? */\n",
       "      safe: true,\n",
       "      /* Index of renderer in `output_area.display_order` */\n",
       "      index: 0\n",
       "    });\n",
       "  }\n",
       "\n",
       "  // register the mime type if in Jupyter Notebook environment and previously unregistered\n",
       "  if (root.Jupyter !== undefined) {\n",
       "    var events = require('base/js/events');\n",
       "    var OutputArea = require('notebook/js/outputarea').OutputArea;\n",
       "\n",
       "    if (OutputArea.prototype.mime_types().indexOf(EXEC_MIME_TYPE) == -1) {\n",
       "      register_renderer(events, OutputArea);\n",
       "    }\n",
       "  }\n",
       "\n",
       "  \n",
       "  if (typeof (root._bokeh_timeout) === \"undefined\" || force === true) {\n",
       "    root._bokeh_timeout = Date.now() + 5000;\n",
       "    root._bokeh_failed_load = false;\n",
       "  }\n",
       "\n",
       "  var NB_LOAD_WARNING = {'data': {'text/html':\n",
       "     \"<div style='background-color: #fdd'>\\n\"+\n",
       "     \"<p>\\n\"+\n",
       "     \"BokehJS does not appear to have successfully loaded. If loading BokehJS from CDN, this \\n\"+\n",
       "     \"may be due to a slow or bad network connection. Possible fixes:\\n\"+\n",
       "     \"</p>\\n\"+\n",
       "     \"<ul>\\n\"+\n",
       "     \"<li>re-rerun `output_notebook()` to attempt to load from CDN again, or</li>\\n\"+\n",
       "     \"<li>use INLINE resources instead, as so:</li>\\n\"+\n",
       "     \"</ul>\\n\"+\n",
       "     \"<code>\\n\"+\n",
       "     \"from bokeh.resources import INLINE\\n\"+\n",
       "     \"output_notebook(resources=INLINE)\\n\"+\n",
       "     \"</code>\\n\"+\n",
       "     \"</div>\"}};\n",
       "\n",
       "  function display_loaded() {\n",
       "    var el = document.getElementById(\"4093\");\n",
       "    if (el != null) {\n",
       "      el.textContent = \"BokehJS is loading...\";\n",
       "    }\n",
       "    if (root.Bokeh !== undefined) {\n",
       "      if (el != null) {\n",
       "        el.textContent = \"BokehJS \" + root.Bokeh.version + \" successfully loaded.\";\n",
       "      }\n",
       "    } else if (Date.now() < root._bokeh_timeout) {\n",
       "      setTimeout(display_loaded, 100)\n",
       "    }\n",
       "  }\n",
       "\n",
       "\n",
       "  function run_callbacks() {\n",
       "    try {\n",
       "      root._bokeh_onload_callbacks.forEach(function(callback) {\n",
       "        if (callback != null)\n",
       "          callback();\n",
       "      });\n",
       "    } finally {\n",
       "      delete root._bokeh_onload_callbacks\n",
       "    }\n",
       "    console.debug(\"Bokeh: all callbacks have finished\");\n",
       "  }\n",
       "\n",
       "  function load_libs(css_urls, js_urls, callback) {\n",
       "    if (css_urls == null) css_urls = [];\n",
       "    if (js_urls == null) js_urls = [];\n",
       "\n",
       "    root._bokeh_onload_callbacks.push(callback);\n",
       "    if (root._bokeh_is_loading > 0) {\n",
       "      console.debug(\"Bokeh: BokehJS is being loaded, scheduling callback at\", now());\n",
       "      return null;\n",
       "    }\n",
       "    if (js_urls == null || js_urls.length === 0) {\n",
       "      run_callbacks();\n",
       "      return null;\n",
       "    }\n",
       "    console.debug(\"Bokeh: BokehJS not loaded, scheduling load and callback at\", now());\n",
       "    root._bokeh_is_loading = css_urls.length + js_urls.length;\n",
       "\n",
       "    function on_load() {\n",
       "      root._bokeh_is_loading--;\n",
       "      if (root._bokeh_is_loading === 0) {\n",
       "        console.debug(\"Bokeh: all BokehJS libraries/stylesheets loaded\");\n",
       "        run_callbacks()\n",
       "      }\n",
       "    }\n",
       "\n",
       "    function on_error() {\n",
       "      console.error(\"failed to load \" + url);\n",
       "    }\n",
       "\n",
       "    for (var i = 0; i < css_urls.length; i++) {\n",
       "      var url = css_urls[i];\n",
       "      const element = document.createElement(\"link\");\n",
       "      element.onload = on_load;\n",
       "      element.onerror = on_error;\n",
       "      element.rel = \"stylesheet\";\n",
       "      element.type = \"text/css\";\n",
       "      element.href = url;\n",
       "      console.debug(\"Bokeh: injecting link tag for BokehJS stylesheet: \", url);\n",
       "      document.body.appendChild(element);\n",
       "    }\n",
       "\n",
       "    const hashes = {\"https://cdn.bokeh.org/bokeh/release/bokeh-2.2.1.min.js\": \"qkRvDQVAIfzsJo40iRBbxt6sttt0hv4lh74DG7OK4MCHv4C5oohXYoHUM5W11uqS\", \"https://cdn.bokeh.org/bokeh/release/bokeh-widgets-2.2.1.min.js\": \"Sb7Mr06a9TNlet/GEBeKaf5xH3eb6AlCzwjtU82wNPyDrnfoiVl26qnvlKjmcAd+\", \"https://cdn.bokeh.org/bokeh/release/bokeh-tables-2.2.1.min.js\": \"HaJ15vgfmcfRtB4c4YBOI4f1MUujukqInOWVqZJZZGK7Q+ivud0OKGSTn/Vm2iso\"};\n",
       "\n",
       "    for (var i = 0; i < js_urls.length; i++) {\n",
       "      var url = js_urls[i];\n",
       "      var element = document.createElement('script');\n",
       "      element.onload = on_load;\n",
       "      element.onerror = on_error;\n",
       "      element.async = false;\n",
       "      element.src = url;\n",
       "      if (url in hashes) {\n",
       "        element.crossOrigin = \"anonymous\";\n",
       "        element.integrity = \"sha384-\" + hashes[url];\n",
       "      }\n",
       "      console.debug(\"Bokeh: injecting script tag for BokehJS library: \", url);\n",
       "      document.head.appendChild(element);\n",
       "    }\n",
       "  };\n",
       "\n",
       "  function inject_raw_css(css) {\n",
       "    const element = document.createElement(\"style\");\n",
       "    element.appendChild(document.createTextNode(css));\n",
       "    document.body.appendChild(element);\n",
       "  }\n",
       "\n",
       "  \n",
       "  var js_urls = [\"https://cdn.bokeh.org/bokeh/release/bokeh-2.2.1.min.js\", \"https://cdn.bokeh.org/bokeh/release/bokeh-widgets-2.2.1.min.js\", \"https://cdn.bokeh.org/bokeh/release/bokeh-tables-2.2.1.min.js\"];\n",
       "  var css_urls = [];\n",
       "  \n",
       "\n",
       "  var inline_js = [\n",
       "    function(Bokeh) {\n",
       "      Bokeh.set_log_level(\"info\");\n",
       "    },\n",
       "    function(Bokeh) {\n",
       "    \n",
       "    \n",
       "    }\n",
       "  ];\n",
       "\n",
       "  function run_inline_js() {\n",
       "    \n",
       "    if (root.Bokeh !== undefined || force === true) {\n",
       "      \n",
       "    for (var i = 0; i < inline_js.length; i++) {\n",
       "      inline_js[i].call(root, root.Bokeh);\n",
       "    }\n",
       "    if (force === true) {\n",
       "        display_loaded();\n",
       "      }} else if (Date.now() < root._bokeh_timeout) {\n",
       "      setTimeout(run_inline_js, 100);\n",
       "    } else if (!root._bokeh_failed_load) {\n",
       "      console.log(\"Bokeh: BokehJS failed to load within specified timeout.\");\n",
       "      root._bokeh_failed_load = true;\n",
       "    } else if (force !== true) {\n",
       "      var cell = $(document.getElementById(\"4093\")).parents('.cell').data().cell;\n",
       "      cell.output_area.append_execute_result(NB_LOAD_WARNING)\n",
       "    }\n",
       "\n",
       "  }\n",
       "\n",
       "  if (root._bokeh_is_loading === 0) {\n",
       "    console.debug(\"Bokeh: BokehJS loaded, going straight to plotting\");\n",
       "    run_inline_js();\n",
       "  } else {\n",
       "    load_libs(css_urls, js_urls, function() {\n",
       "      console.debug(\"Bokeh: BokehJS plotting callback run at\", now());\n",
       "      run_inline_js();\n",
       "    });\n",
       "  }\n",
       "}(window));"
      ],
      "application/vnd.bokehjs_load.v0+json": "\n(function(root) {\n  function now() {\n    return new Date();\n  }\n\n  var force = true;\n\n  if (typeof root._bokeh_onload_callbacks === \"undefined\" || force === true) {\n    root._bokeh_onload_callbacks = [];\n    root._bokeh_is_loading = undefined;\n  }\n\n  \n\n  \n  if (typeof (root._bokeh_timeout) === \"undefined\" || force === true) {\n    root._bokeh_timeout = Date.now() + 5000;\n    root._bokeh_failed_load = false;\n  }\n\n  var NB_LOAD_WARNING = {'data': {'text/html':\n     \"<div style='background-color: #fdd'>\\n\"+\n     \"<p>\\n\"+\n     \"BokehJS does not appear to have successfully loaded. If loading BokehJS from CDN, this \\n\"+\n     \"may be due to a slow or bad network connection. Possible fixes:\\n\"+\n     \"</p>\\n\"+\n     \"<ul>\\n\"+\n     \"<li>re-rerun `output_notebook()` to attempt to load from CDN again, or</li>\\n\"+\n     \"<li>use INLINE resources instead, as so:</li>\\n\"+\n     \"</ul>\\n\"+\n     \"<code>\\n\"+\n     \"from bokeh.resources import INLINE\\n\"+\n     \"output_notebook(resources=INLINE)\\n\"+\n     \"</code>\\n\"+\n     \"</div>\"}};\n\n  function display_loaded() {\n    var el = document.getElementById(\"4093\");\n    if (el != null) {\n      el.textContent = \"BokehJS is loading...\";\n    }\n    if (root.Bokeh !== undefined) {\n      if (el != null) {\n        el.textContent = \"BokehJS \" + root.Bokeh.version + \" successfully loaded.\";\n      }\n    } else if (Date.now() < root._bokeh_timeout) {\n      setTimeout(display_loaded, 100)\n    }\n  }\n\n\n  function run_callbacks() {\n    try {\n      root._bokeh_onload_callbacks.forEach(function(callback) {\n        if (callback != null)\n          callback();\n      });\n    } finally {\n      delete root._bokeh_onload_callbacks\n    }\n    console.debug(\"Bokeh: all callbacks have finished\");\n  }\n\n  function load_libs(css_urls, js_urls, callback) {\n    if (css_urls == null) css_urls = [];\n    if (js_urls == null) js_urls = [];\n\n    root._bokeh_onload_callbacks.push(callback);\n    if (root._bokeh_is_loading > 0) {\n      console.debug(\"Bokeh: BokehJS is being loaded, scheduling callback at\", now());\n      return null;\n    }\n    if (js_urls == null || js_urls.length === 0) {\n      run_callbacks();\n      return null;\n    }\n    console.debug(\"Bokeh: BokehJS not loaded, scheduling load and callback at\", now());\n    root._bokeh_is_loading = css_urls.length + js_urls.length;\n\n    function on_load() {\n      root._bokeh_is_loading--;\n      if (root._bokeh_is_loading === 0) {\n        console.debug(\"Bokeh: all BokehJS libraries/stylesheets loaded\");\n        run_callbacks()\n      }\n    }\n\n    function on_error() {\n      console.error(\"failed to load \" + url);\n    }\n\n    for (var i = 0; i < css_urls.length; i++) {\n      var url = css_urls[i];\n      const element = document.createElement(\"link\");\n      element.onload = on_load;\n      element.onerror = on_error;\n      element.rel = \"stylesheet\";\n      element.type = \"text/css\";\n      element.href = url;\n      console.debug(\"Bokeh: injecting link tag for BokehJS stylesheet: \", url);\n      document.body.appendChild(element);\n    }\n\n    const hashes = {\"https://cdn.bokeh.org/bokeh/release/bokeh-2.2.1.min.js\": \"qkRvDQVAIfzsJo40iRBbxt6sttt0hv4lh74DG7OK4MCHv4C5oohXYoHUM5W11uqS\", \"https://cdn.bokeh.org/bokeh/release/bokeh-widgets-2.2.1.min.js\": \"Sb7Mr06a9TNlet/GEBeKaf5xH3eb6AlCzwjtU82wNPyDrnfoiVl26qnvlKjmcAd+\", \"https://cdn.bokeh.org/bokeh/release/bokeh-tables-2.2.1.min.js\": \"HaJ15vgfmcfRtB4c4YBOI4f1MUujukqInOWVqZJZZGK7Q+ivud0OKGSTn/Vm2iso\"};\n\n    for (var i = 0; i < js_urls.length; i++) {\n      var url = js_urls[i];\n      var element = document.createElement('script');\n      element.onload = on_load;\n      element.onerror = on_error;\n      element.async = false;\n      element.src = url;\n      if (url in hashes) {\n        element.crossOrigin = \"anonymous\";\n        element.integrity = \"sha384-\" + hashes[url];\n      }\n      console.debug(\"Bokeh: injecting script tag for BokehJS library: \", url);\n      document.head.appendChild(element);\n    }\n  };\n\n  function inject_raw_css(css) {\n    const element = document.createElement(\"style\");\n    element.appendChild(document.createTextNode(css));\n    document.body.appendChild(element);\n  }\n\n  \n  var js_urls = [\"https://cdn.bokeh.org/bokeh/release/bokeh-2.2.1.min.js\", \"https://cdn.bokeh.org/bokeh/release/bokeh-widgets-2.2.1.min.js\", \"https://cdn.bokeh.org/bokeh/release/bokeh-tables-2.2.1.min.js\"];\n  var css_urls = [];\n  \n\n  var inline_js = [\n    function(Bokeh) {\n      Bokeh.set_log_level(\"info\");\n    },\n    function(Bokeh) {\n    \n    \n    }\n  ];\n\n  function run_inline_js() {\n    \n    if (root.Bokeh !== undefined || force === true) {\n      \n    for (var i = 0; i < inline_js.length; i++) {\n      inline_js[i].call(root, root.Bokeh);\n    }\n    if (force === true) {\n        display_loaded();\n      }} else if (Date.now() < root._bokeh_timeout) {\n      setTimeout(run_inline_js, 100);\n    } else if (!root._bokeh_failed_load) {\n      console.log(\"Bokeh: BokehJS failed to load within specified timeout.\");\n      root._bokeh_failed_load = true;\n    } else if (force !== true) {\n      var cell = $(document.getElementById(\"4093\")).parents('.cell').data().cell;\n      cell.output_area.append_execute_result(NB_LOAD_WARNING)\n    }\n\n  }\n\n  if (root._bokeh_is_loading === 0) {\n    console.debug(\"Bokeh: BokehJS loaded, going straight to plotting\");\n    run_inline_js();\n  } else {\n    load_libs(css_urls, js_urls, function() {\n      console.debug(\"Bokeh: BokehJS plotting callback run at\", now());\n      run_inline_js();\n    });\n  }\n}(window));"
     },
     "metadata": {},
     "output_type": "display_data"
    },
    {
     "data": {
      "text/html": [
       "\n",
       "\n",
       "\n",
       "\n",
       "\n",
       "\n",
       "  <div class=\"bk-root\" id=\"39f04581-53c8-4349-8bbb-a6c0d50d1c96\" data-root-id=\"4029\"></div>\n"
      ]
     },
     "metadata": {},
     "output_type": "display_data"
    },
    {
     "data": {
      "application/javascript": [
       "(function(root) {\n",
       "  function embed_document(root) {\n",
       "    \n",
       "  var docs_json = {\"bde181cc-85e3-4f98-905d-9a3d1f4b3235\":{\"roots\":{\"references\":[{\"attributes\":{\"below\":[{\"id\":\"4040\"}],\"center\":[{\"id\":\"4043\"},{\"id\":\"4047\"},{\"id\":\"4075\"}],\"left\":[{\"id\":\"4044\"}],\"renderers\":[{\"id\":\"4065\"},{\"id\":\"4080\"}],\"title\":{\"id\":\"4030\"},\"toolbar\":{\"id\":\"4055\"},\"x_range\":{\"id\":\"4032\"},\"x_scale\":{\"id\":\"4036\"},\"y_range\":{\"id\":\"4034\"},\"y_scale\":{\"id\":\"4038\"}},\"id\":\"4029\",\"subtype\":\"Figure\",\"type\":\"Plot\"},{\"attributes\":{\"active_drag\":\"auto\",\"active_inspect\":\"auto\",\"active_multi\":null,\"active_scroll\":\"auto\",\"active_tap\":\"auto\",\"tools\":[{\"id\":\"4048\"},{\"id\":\"4049\"},{\"id\":\"4050\"},{\"id\":\"4051\"},{\"id\":\"4052\"},{\"id\":\"4053\"}]},\"id\":\"4055\",\"type\":\"Toolbar\"},{\"attributes\":{},\"id\":\"4072\",\"type\":\"Selection\"},{\"attributes\":{},\"id\":\"4073\",\"type\":\"UnionRenderers\"},{\"attributes\":{},\"id\":\"4089\",\"type\":\"Selection\"},{\"attributes\":{\"items\":[{\"id\":\"4076\"},{\"id\":\"4092\"}]},\"id\":\"4075\",\"type\":\"Legend\"},{\"attributes\":{\"fill_alpha\":{\"value\":0.1},\"fill_color\":{\"value\":\"navy\"},\"line_alpha\":{\"value\":0.1},\"line_color\":{\"value\":\"navy\"},\"size\":{\"units\":\"screen\",\"value\":12},\"x\":{\"field\":\"x\"},\"y\":{\"field\":\"y\"}},\"id\":\"4064\",\"type\":\"Square\"},{\"attributes\":{\"data\":{\"x\":[0,1,2,3,4,5,6,7,8,9,10,11,12,13,14,15,16,17,18,19,20,21,22,23],\"y\":{\"__ndarray__\":\"f/yboCwW7T+u1ZXTfOfrP9w4RS4o/eo/6iLi85Ix6z/anyjE3aHsP8WUoUzF1e4/3xmICnZk8D+waRaL1vrwP3ZMtDF4RfE/LpoDFtdq8T/ygrg0bJrxP3EgPeO2bPE/FklC2PEA8T8zLPhYY3rwP67Gr3QVA/A/W83ktkWp7z8mB4fqV0PwP18YCtIV/PA/mH2isDfz8D8ac/u6E2DwPzoHXfocN/A/vCfpozhu8D9JFfkD0uHvP26pp9pvNu4/\",\"dtype\":\"float64\",\"order\":\"little\",\"shape\":[24]}},\"selected\":{\"id\":\"4072\"},\"selection_policy\":{\"id\":\"4073\"}},\"id\":\"4062\",\"type\":\"ColumnDataSource\"},{\"attributes\":{\"data_source\":{\"id\":\"4062\"},\"glyph\":{\"id\":\"4063\"},\"hover_glyph\":null,\"muted_glyph\":null,\"nonselection_glyph\":{\"id\":\"4064\"},\"selection_glyph\":null,\"view\":{\"id\":\"4066\"}},\"id\":\"4065\",\"type\":\"GlyphRenderer\"},{\"attributes\":{},\"id\":\"4049\",\"type\":\"WheelZoomTool\"},{\"attributes\":{\"fill_color\":{\"value\":\"red\"},\"line_color\":{\"value\":\"red\"},\"size\":{\"units\":\"screen\",\"value\":12},\"x\":{\"field\":\"x\"},\"y\":{\"field\":\"y\"}},\"id\":\"4078\",\"type\":\"Circle\"},{\"attributes\":{\"text\":\"Fr vs. Es consumption\"},\"id\":\"4030\",\"type\":\"Title\"},{\"attributes\":{\"data_source\":{\"id\":\"4077\"},\"glyph\":{\"id\":\"4078\"},\"hover_glyph\":null,\"muted_glyph\":null,\"nonselection_glyph\":{\"id\":\"4079\"},\"selection_glyph\":null,\"view\":{\"id\":\"4081\"}},\"id\":\"4080\",\"type\":\"GlyphRenderer\"},{\"attributes\":{},\"id\":\"4045\",\"type\":\"BasicTicker\"},{\"attributes\":{},\"id\":\"4032\",\"type\":\"DataRange1d\"},{\"attributes\":{\"source\":{\"id\":\"4077\"}},\"id\":\"4081\",\"type\":\"CDSView\"},{\"attributes\":{},\"id\":\"4041\",\"type\":\"BasicTicker\"},{\"attributes\":{},\"id\":\"4034\",\"type\":\"DataRange1d\"},{\"attributes\":{\"axis_label\":\"X\",\"formatter\":{\"id\":\"4071\"},\"ticker\":{\"id\":\"4041\"}},\"id\":\"4040\",\"type\":\"LinearAxis\"},{\"attributes\":{},\"id\":\"4038\",\"type\":\"LinearScale\"},{\"attributes\":{},\"id\":\"4069\",\"type\":\"BasicTickFormatter\"},{\"attributes\":{\"axis\":{\"id\":\"4040\"},\"ticker\":null},\"id\":\"4043\",\"type\":\"Grid\"},{\"attributes\":{},\"id\":\"4090\",\"type\":\"UnionRenderers\"},{\"attributes\":{},\"id\":\"4036\",\"type\":\"LinearScale\"},{\"attributes\":{\"label\":{\"value\":\"Spain\"},\"renderers\":[{\"id\":\"4080\"}]},\"id\":\"4092\",\"type\":\"LegendItem\"},{\"attributes\":{\"data\":{\"x\":[0,1,2,3,4,5,6,7,8,9,10,11,12,13,14,15,16,17,18,19,20,21,22,23],\"y\":{\"__ndarray__\":\"Z0Rt12e76j+x5I3uedPpP3PG27L1aek/uSWIkX936T9nLYSakorqP//Wg7PJoOw/zaQTvk0r7z818bvyPp3wP1hojHymVvE/n6e0wgDE8T9IXc2du/jxPzpP8hFqAvI/GzlwDSfI8T8SPR2L4EzxP8N/KOFd/PA/Ox8FghbV8D+tw69n6cTwP6TRjgfYE/E/06HpyLmf8T9Cx8pCIAPyP8Bw1prcc/E/9TZ/ZxtG8D8VQyECPE3uP5Ys4zGMTew/\",\"dtype\":\"float64\",\"order\":\"little\",\"shape\":[24]}},\"selected\":{\"id\":\"4089\"},\"selection_policy\":{\"id\":\"4090\"}},\"id\":\"4077\",\"type\":\"ColumnDataSource\"},{\"attributes\":{},\"id\":\"4071\",\"type\":\"BasicTickFormatter\"},{\"attributes\":{\"label\":{\"value\":\"France\"},\"renderers\":[{\"id\":\"4065\"}]},\"id\":\"4076\",\"type\":\"LegendItem\"},{\"attributes\":{\"axis_label\":\"Y\",\"formatter\":{\"id\":\"4069\"},\"ticker\":{\"id\":\"4045\"}},\"id\":\"4044\",\"type\":\"LinearAxis\"},{\"attributes\":{\"axis\":{\"id\":\"4044\"},\"dimension\":1,\"ticker\":null},\"id\":\"4047\",\"type\":\"Grid\"},{\"attributes\":{\"bottom_units\":\"screen\",\"fill_alpha\":0.5,\"fill_color\":\"lightgrey\",\"left_units\":\"screen\",\"level\":\"overlay\",\"line_alpha\":1.0,\"line_color\":\"black\",\"line_dash\":[4,4],\"line_width\":2,\"right_units\":\"screen\",\"top_units\":\"screen\"},\"id\":\"4054\",\"type\":\"BoxAnnotation\"},{\"attributes\":{},\"id\":\"4053\",\"type\":\"HelpTool\"},{\"attributes\":{},\"id\":\"4048\",\"type\":\"PanTool\"},{\"attributes\":{\"overlay\":{\"id\":\"4054\"}},\"id\":\"4050\",\"type\":\"BoxZoomTool\"},{\"attributes\":{\"fill_alpha\":{\"value\":0.6},\"fill_color\":{\"value\":\"navy\"},\"line_alpha\":{\"value\":0.6},\"line_color\":{\"value\":\"navy\"},\"size\":{\"units\":\"screen\",\"value\":12},\"x\":{\"field\":\"x\"},\"y\":{\"field\":\"y\"}},\"id\":\"4063\",\"type\":\"Square\"},{\"attributes\":{},\"id\":\"4051\",\"type\":\"SaveTool\"},{\"attributes\":{},\"id\":\"4052\",\"type\":\"ResetTool\"},{\"attributes\":{\"source\":{\"id\":\"4062\"}},\"id\":\"4066\",\"type\":\"CDSView\"},{\"attributes\":{\"fill_alpha\":{\"value\":0.1},\"fill_color\":{\"value\":\"red\"},\"line_alpha\":{\"value\":0.1},\"line_color\":{\"value\":\"red\"},\"size\":{\"units\":\"screen\",\"value\":12},\"x\":{\"field\":\"x\"},\"y\":{\"field\":\"y\"}},\"id\":\"4079\",\"type\":\"Circle\"}],\"root_ids\":[\"4029\"]},\"title\":\"Bokeh Application\",\"version\":\"2.2.1\"}};\n",
       "  var render_items = [{\"docid\":\"bde181cc-85e3-4f98-905d-9a3d1f4b3235\",\"root_ids\":[\"4029\"],\"roots\":{\"4029\":\"39f04581-53c8-4349-8bbb-a6c0d50d1c96\"}}];\n",
       "  root.Bokeh.embed.embed_items_notebook(docs_json, render_items);\n",
       "\n",
       "  }\n",
       "  if (root.Bokeh !== undefined) {\n",
       "    embed_document(root);\n",
       "  } else {\n",
       "    var attempts = 0;\n",
       "    var timer = setInterval(function(root) {\n",
       "      if (root.Bokeh !== undefined) {\n",
       "        clearInterval(timer);\n",
       "        embed_document(root);\n",
       "      } else {\n",
       "        attempts++;\n",
       "        if (attempts > 100) {\n",
       "          clearInterval(timer);\n",
       "          console.log(\"Bokeh: ERROR: Unable to run BokehJS code because BokehJS library is missing\");\n",
       "        }\n",
       "      }\n",
       "    }, 10, root)\n",
       "  }\n",
       "})(window);"
      ],
      "application/vnd.bokehjs_exec.v0+json": ""
     },
     "metadata": {
      "application/vnd.bokehjs_exec.v0+json": {
       "id": "4029"
      }
     },
     "output_type": "display_data"
    }
   ],
   "source": [
    "# Variation of consumption in France and Spain by hour\n",
    "\n",
    "# Create a blank figure with labels\n",
    "p = figure(plot_width = 600, plot_height = 600, \n",
    "           title = 'Fr vs. Es consumption',\n",
    "           x_axis_label = 'X', y_axis_label = 'Y')\n",
    "\n",
    "# Example data\n",
    "squares_x = hour\n",
    "squares_y = fr\n",
    "circles_x = hour\n",
    "circles_y = es\n",
    "\n",
    "# Add squares glyph\n",
    "p.square(squares_x, squares_y, size = 12, color = 'navy', alpha = 0.6, legend_label= 'France')\n",
    "# Add circle glyph\n",
    "p.circle(circles_x, circles_y, size = 12, color = 'red', legend_label = 'Spain')\n",
    "\n",
    "# Set to output the plot in the notebook\n",
    "output_notebook()\n",
    "# Show the plot\n",
    "show(p)"
   ]
  },
  {
   "cell_type": "code",
   "execution_count": 75,
   "metadata": {},
   "outputs": [],
   "source": [
    "df_hour3 = df_hour2.copy()"
   ]
  },
  {
   "cell_type": "code",
   "execution_count": 76,
   "metadata": {},
   "outputs": [],
   "source": [
    "df_hour3['end_time'] = df_hour3['hour'] +1"
   ]
  },
  {
   "cell_type": "code",
   "execution_count": 102,
   "metadata": {},
   "outputs": [
    {
     "data": {
      "text/html": [
       "\n",
       "\n",
       "\n",
       "\n",
       "\n",
       "\n",
       "  <div class=\"bk-root\" id=\"5b74cd39-781a-43fc-b956-a4a5ab254484\" data-root-id=\"8029\"></div>\n"
      ]
     },
     "metadata": {},
     "output_type": "display_data"
    },
    {
     "data": {
      "application/javascript": [
       "(function(root) {\n",
       "  function embed_document(root) {\n",
       "    \n",
       "  var docs_json = {\"5a62d725-4a91-4436-a7d5-9a509951d584\":{\"roots\":{\"references\":[{\"attributes\":{\"below\":[{\"id\":\"8040\"}],\"center\":[{\"id\":\"8043\"},{\"id\":\"8047\"}],\"left\":[{\"id\":\"8044\"}],\"renderers\":[{\"id\":\"8065\"}],\"title\":{\"id\":\"8030\"},\"toolbar\":{\"id\":\"8055\"},\"x_range\":{\"id\":\"8032\"},\"x_scale\":{\"id\":\"8036\"},\"y_range\":{\"id\":\"8034\"},\"y_scale\":{\"id\":\"8038\"}},\"id\":\"8029\",\"subtype\":\"Figure\",\"type\":\"Plot\"},{\"attributes\":{},\"id\":\"8275\",\"type\":\"Selection\"},{\"attributes\":{\"bottom\":{\"value\":0},\"fill_color\":{\"value\":\"grey\"},\"left\":{\"field\":\"left\"},\"right\":{\"field\":\"right\"},\"top\":{\"field\":\"top\"}},\"id\":\"8063\",\"type\":\"Quad\"},{\"attributes\":{},\"id\":\"8276\",\"type\":\"UnionRenderers\"},{\"attributes\":{\"data_source\":{\"id\":\"8062\"},\"glyph\":{\"id\":\"8063\"},\"hover_glyph\":null,\"muted_glyph\":null,\"nonselection_glyph\":{\"id\":\"8064\"},\"selection_glyph\":null,\"view\":{\"id\":\"8066\"}},\"id\":\"8065\",\"type\":\"GlyphRenderer\"},{\"attributes\":{\"active_drag\":\"auto\",\"active_inspect\":\"auto\",\"active_multi\":null,\"active_scroll\":\"auto\",\"active_tap\":\"auto\",\"tools\":[{\"id\":\"8048\"},{\"id\":\"8049\"},{\"id\":\"8050\"},{\"id\":\"8051\"},{\"id\":\"8052\"},{\"id\":\"8053\"},{\"id\":\"8067\"}]},\"id\":\"8055\",\"type\":\"Toolbar\"},{\"attributes\":{\"source\":{\"id\":\"8062\"}},\"id\":\"8066\",\"type\":\"CDSView\"},{\"attributes\":{\"callback\":null,\"tooltips\":[[\"fr\",\"Consumption\"]]},\"id\":\"8067\",\"type\":\"HoverTool\"},{\"attributes\":{},\"id\":\"8049\",\"type\":\"WheelZoomTool\"},{\"attributes\":{\"bottom\":{\"value\":0},\"fill_alpha\":{\"value\":0.1},\"fill_color\":{\"value\":\"grey\"},\"left\":{\"field\":\"left\"},\"line_alpha\":{\"value\":0.1},\"right\":{\"field\":\"right\"},\"top\":{\"field\":\"top\"}},\"id\":\"8064\",\"type\":\"Quad\"},{\"attributes\":{\"data\":{\"left\":[0,1,2,3,4,5,6,7,8,9,10,11,12,13,14,15,16,17,18,19,20,21,22,23],\"right\":[1,2,3,4,5,6,7,8,9,10,11,12,13,14,15,16,17,18,19,20,21,22,23,24],\"top\":{\"__ndarray__\":\"f/yboCwW7T+u1ZXTfOfrP9w4RS4o/eo/6iLi85Ix6z/anyjE3aHsP8WUoUzF1e4/3xmICnZk8D+waRaL1vrwP3ZMtDF4RfE/LpoDFtdq8T/ygrg0bJrxP3EgPeO2bPE/FklC2PEA8T8zLPhYY3rwP67Gr3QVA/A/W83ktkWp7z8mB4fqV0PwP18YCtIV/PA/mH2isDfz8D8ac/u6E2DwPzoHXfocN/A/vCfpozhu8D9JFfkD0uHvP26pp9pvNu4/\",\"dtype\":\"float64\",\"order\":\"little\",\"shape\":[24]}},\"selected\":{\"id\":\"8275\"},\"selection_policy\":{\"id\":\"8276\"}},\"id\":\"8062\",\"type\":\"ColumnDataSource\"},{\"attributes\":{\"text\":\"Histogram of consumption in Fr\"},\"id\":\"8030\",\"type\":\"Title\"},{\"attributes\":{\"axis\":{\"id\":\"8040\"},\"ticker\":null},\"id\":\"8043\",\"type\":\"Grid\"},{\"attributes\":{\"axis_label\":\"Hour\",\"formatter\":{\"id\":\"8274\"},\"ticker\":{\"id\":\"8041\"}},\"id\":\"8040\",\"type\":\"LinearAxis\"},{\"attributes\":{},\"id\":\"8034\",\"type\":\"DataRange1d\"},{\"attributes\":{},\"id\":\"8038\",\"type\":\"LinearScale\"},{\"attributes\":{},\"id\":\"8272\",\"type\":\"BasicTickFormatter\"},{\"attributes\":{},\"id\":\"8036\",\"type\":\"LinearScale\"},{\"attributes\":{\"bottom_units\":\"screen\",\"fill_alpha\":0.5,\"fill_color\":\"lightgrey\",\"left_units\":\"screen\",\"level\":\"overlay\",\"line_alpha\":1.0,\"line_color\":\"black\",\"line_dash\":[4,4],\"line_width\":2,\"right_units\":\"screen\",\"top_units\":\"screen\"},\"id\":\"8054\",\"type\":\"BoxAnnotation\"},{\"attributes\":{\"axis_label\":\"Consumption\",\"formatter\":{\"id\":\"8272\"},\"ticker\":{\"id\":\"8045\"}},\"id\":\"8044\",\"type\":\"LinearAxis\"},{\"attributes\":{},\"id\":\"8274\",\"type\":\"BasicTickFormatter\"},{\"attributes\":{\"axis\":{\"id\":\"8044\"},\"dimension\":1,\"ticker\":null},\"id\":\"8047\",\"type\":\"Grid\"},{\"attributes\":{},\"id\":\"8045\",\"type\":\"BasicTicker\"},{\"attributes\":{},\"id\":\"8053\",\"type\":\"HelpTool\"},{\"attributes\":{},\"id\":\"8048\",\"type\":\"PanTool\"},{\"attributes\":{\"overlay\":{\"id\":\"8054\"}},\"id\":\"8050\",\"type\":\"BoxZoomTool\"},{\"attributes\":{},\"id\":\"8041\",\"type\":\"BasicTicker\"},{\"attributes\":{},\"id\":\"8051\",\"type\":\"SaveTool\"},{\"attributes\":{},\"id\":\"8032\",\"type\":\"DataRange1d\"},{\"attributes\":{},\"id\":\"8052\",\"type\":\"ResetTool\"}],\"root_ids\":[\"8029\"]},\"title\":\"Bokeh Application\",\"version\":\"2.2.1\"}};\n",
       "  var render_items = [{\"docid\":\"5a62d725-4a91-4436-a7d5-9a509951d584\",\"root_ids\":[\"8029\"],\"roots\":{\"8029\":\"5b74cd39-781a-43fc-b956-a4a5ab254484\"}}];\n",
       "  root.Bokeh.embed.embed_items_notebook(docs_json, render_items);\n",
       "\n",
       "  }\n",
       "  if (root.Bokeh !== undefined) {\n",
       "    embed_document(root);\n",
       "  } else {\n",
       "    var attempts = 0;\n",
       "    var timer = setInterval(function(root) {\n",
       "      if (root.Bokeh !== undefined) {\n",
       "        clearInterval(timer);\n",
       "        embed_document(root);\n",
       "      } else {\n",
       "        attempts++;\n",
       "        if (attempts > 100) {\n",
       "          clearInterval(timer);\n",
       "          console.log(\"Bokeh: ERROR: Unable to run BokehJS code because BokehJS library is missing\");\n",
       "        }\n",
       "      }\n",
       "    }, 10, root)\n",
       "  }\n",
       "})(window);"
      ],
      "application/vnd.bokehjs_exec.v0+json": ""
     },
     "metadata": {
      "application/vnd.bokehjs_exec.v0+json": {
       "id": "8029"
      }
     },
     "output_type": "display_data"
    }
   ],
   "source": [
    "# Variation of consumption in France by hour\n",
    "\n",
    "# Create the blank plot\n",
    "p = figure(plot_height = 600, plot_width = 600, \n",
    "           title = 'Histogram of consumption in Fr',\n",
    "          x_axis_label = 'Hour', \n",
    "           y_axis_label = 'Consumption')\n",
    "\n",
    "# Add a quad glyph\n",
    "p.quad(bottom=0, top=df_hour3['fr'], \n",
    "       left=df_hour3['hour'], right=df_hour3['end_time'],\n",
    "       fill_color='grey', line_color='black')\n",
    "\n",
    "\n",
    "# Add the hover tool to the graph\n",
    "p.add_tools(HoverTool(tooltips=[(\"fr\", \"Consumption\")]))\n",
    "\n",
    "# Show the plot\n",
    "show(p)"
   ]
  },
  {
   "cell_type": "code",
   "execution_count": 111,
   "metadata": {},
   "outputs": [
    {
     "data": {
      "text/html": [
       "\n",
       "\n",
       "\n",
       "\n",
       "\n",
       "\n",
       "  <div class=\"bk-root\" id=\"b56555b1-7305-49ba-ac20-970ebbd0b82f\" data-root-id=\"9265\"></div>\n"
      ]
     },
     "metadata": {},
     "output_type": "display_data"
    },
    {
     "data": {
      "application/javascript": [
       "(function(root) {\n",
       "  function embed_document(root) {\n",
       "    \n",
       "  var docs_json = {\"5f38f6b3-3f24-4b55-9e62-e3810c932405\":{\"roots\":{\"references\":[{\"attributes\":{\"below\":[{\"id\":\"9276\"}],\"center\":[{\"id\":\"9279\"},{\"id\":\"9283\"}],\"left\":[{\"id\":\"9280\"}],\"plot_height\":300,\"plot_width\":300,\"renderers\":[{\"id\":\"9301\"}],\"right\":[{\"id\":\"9303\"}],\"title\":{\"id\":\"9266\"},\"toolbar\":{\"id\":\"9291\"},\"x_range\":{\"id\":\"9268\"},\"x_scale\":{\"id\":\"9272\"},\"y_range\":{\"id\":\"9270\"},\"y_scale\":{\"id\":\"9274\"}},\"id\":\"9265\",\"subtype\":\"Figure\",\"type\":\"Plot\"},{\"attributes\":{\"overlay\":{\"id\":\"9290\"}},\"id\":\"9286\",\"type\":\"BoxZoomTool\"},{\"attributes\":{},\"id\":\"9272\",\"type\":\"LinearScale\"},{\"attributes\":{\"source\":{\"id\":\"9264\"}},\"id\":\"9302\",\"type\":\"CDSView\"},{\"attributes\":{},\"id\":\"9268\",\"type\":\"DataRange1d\"},{\"attributes\":{},\"id\":\"9540\",\"type\":\"Selection\"},{\"attributes\":{\"axis\":{\"id\":\"9280\"},\"dimension\":1,\"ticker\":null},\"id\":\"9283\",\"type\":\"Grid\"},{\"attributes\":{},\"id\":\"9274\",\"type\":\"LinearScale\"},{\"attributes\":{},\"id\":\"9539\",\"type\":\"BasicTickFormatter\"},{\"attributes\":{\"fill_alpha\":{\"value\":0.1},\"fill_color\":{\"field\":\"y\",\"transform\":{\"id\":\"9263\"}},\"line_alpha\":{\"value\":0.1},\"line_color\":{\"field\":\"y\",\"transform\":{\"id\":\"9263\"}},\"size\":{\"units\":\"screen\",\"value\":12},\"x\":{\"field\":\"x\"},\"y\":{\"field\":\"y\"}},\"id\":\"9300\",\"type\":\"Circle\"},{\"attributes\":{},\"id\":\"9536\",\"type\":\"BasicTicker\"},{\"attributes\":{\"color_mapper\":{\"id\":\"9263\"},\"formatter\":{\"id\":\"9537\"},\"location\":[0,0],\"ticker\":{\"id\":\"9536\"},\"width\":8},\"id\":\"9303\",\"type\":\"ColorBar\"},{\"attributes\":{\"data_source\":{\"id\":\"9264\"},\"glyph\":{\"id\":\"9299\"},\"hover_glyph\":null,\"muted_glyph\":null,\"nonselection_glyph\":{\"id\":\"9300\"},\"selection_glyph\":null,\"view\":{\"id\":\"9302\"}},\"id\":\"9301\",\"type\":\"GlyphRenderer\"},{\"attributes\":{\"bottom_units\":\"screen\",\"fill_alpha\":0.5,\"fill_color\":\"lightgrey\",\"left_units\":\"screen\",\"level\":\"overlay\",\"line_alpha\":1.0,\"line_color\":\"black\",\"line_dash\":[4,4],\"line_width\":2,\"right_units\":\"screen\",\"top_units\":\"screen\"},\"id\":\"9290\",\"type\":\"BoxAnnotation\"},{\"attributes\":{},\"id\":\"9537\",\"type\":\"BasicTickFormatter\"},{\"attributes\":{\"active_drag\":\"auto\",\"active_inspect\":\"auto\",\"active_multi\":null,\"active_scroll\":\"auto\",\"active_tap\":\"auto\",\"tools\":[{\"id\":\"9284\"},{\"id\":\"9285\"},{\"id\":\"9286\"},{\"id\":\"9287\"},{\"id\":\"9288\"},{\"id\":\"9289\"}]},\"id\":\"9291\",\"type\":\"Toolbar\"},{\"attributes\":{\"fill_color\":{\"field\":\"y\",\"transform\":{\"id\":\"9263\"}},\"line_color\":{\"field\":\"y\",\"transform\":{\"id\":\"9263\"}},\"size\":{\"units\":\"screen\",\"value\":12},\"x\":{\"field\":\"x\"},\"y\":{\"field\":\"y\"}},\"id\":\"9299\",\"type\":\"Circle\"},{\"attributes\":{},\"id\":\"9288\",\"type\":\"ResetTool\"},{\"attributes\":{\"axis\":{\"id\":\"9276\"},\"ticker\":null},\"id\":\"9279\",\"type\":\"Grid\"},{\"attributes\":{},\"id\":\"9270\",\"type\":\"DataRange1d\"},{\"attributes\":{},\"id\":\"9284\",\"type\":\"PanTool\"},{\"attributes\":{},\"id\":\"9541\",\"type\":\"UnionRenderers\"},{\"attributes\":{\"formatter\":{\"id\":\"9539\"},\"ticker\":{\"id\":\"9277\"}},\"id\":\"9276\",\"type\":\"LinearAxis\"},{\"attributes\":{},\"id\":\"9535\",\"type\":\"BasicTickFormatter\"},{\"attributes\":{\"text\":\"Variation of consumption in France\"},\"id\":\"9266\",\"type\":\"Title\"},{\"attributes\":{\"formatter\":{\"id\":\"9535\"},\"ticker\":{\"id\":\"9281\"}},\"id\":\"9280\",\"type\":\"LinearAxis\"},{\"attributes\":{},\"id\":\"9287\",\"type\":\"SaveTool\"},{\"attributes\":{\"data\":{\"x\":[0,1,2,3,4,5,6,7,8,9,10,11,12,13,14,15,16,17,18,19,20,21,22,23],\"y\":{\"__ndarray__\":\"f/yboCwW7T+u1ZXTfOfrP9w4RS4o/eo/6iLi85Ix6z/anyjE3aHsP8WUoUzF1e4/3xmICnZk8D+waRaL1vrwP3ZMtDF4RfE/LpoDFtdq8T/ygrg0bJrxP3EgPeO2bPE/FklC2PEA8T8zLPhYY3rwP67Gr3QVA/A/W83ktkWp7z8mB4fqV0PwP18YCtIV/PA/mH2isDfz8D8ac/u6E2DwPzoHXfocN/A/vCfpozhu8D9JFfkD0uHvP26pp9pvNu4/\",\"dtype\":\"float64\",\"order\":\"little\",\"shape\":[24]}},\"selected\":{\"id\":\"9540\"},\"selection_policy\":{\"id\":\"9541\"}},\"id\":\"9264\",\"type\":\"ColumnDataSource\"},{\"attributes\":{},\"id\":\"9277\",\"type\":\"BasicTicker\"},{\"attributes\":{},\"id\":\"9281\",\"type\":\"BasicTicker\"},{\"attributes\":{},\"id\":\"9285\",\"type\":\"WheelZoomTool\"},{\"attributes\":{},\"id\":\"9289\",\"type\":\"HelpTool\"},{\"attributes\":{\"high\":1.1002008494762632,\"low\":0.8434029487341621,\"palette\":[\"#3288bd\",\"#99d594\",\"#e6f598\",\"#fee08b\",\"#fc8d59\",\"#d53e4f\"]},\"id\":\"9263\",\"type\":\"LinearColorMapper\"}],\"root_ids\":[\"9265\"]},\"title\":\"Bokeh Application\",\"version\":\"2.2.1\"}};\n",
       "  var render_items = [{\"docid\":\"5f38f6b3-3f24-4b55-9e62-e3810c932405\",\"root_ids\":[\"9265\"],\"roots\":{\"9265\":\"b56555b1-7305-49ba-ac20-970ebbd0b82f\"}}];\n",
       "  root.Bokeh.embed.embed_items_notebook(docs_json, render_items);\n",
       "\n",
       "  }\n",
       "  if (root.Bokeh !== undefined) {\n",
       "    embed_document(root);\n",
       "  } else {\n",
       "    var attempts = 0;\n",
       "    var timer = setInterval(function(root) {\n",
       "      if (root.Bokeh !== undefined) {\n",
       "        clearInterval(timer);\n",
       "        embed_document(root);\n",
       "      } else {\n",
       "        attempts++;\n",
       "        if (attempts > 100) {\n",
       "          clearInterval(timer);\n",
       "          console.log(\"Bokeh: ERROR: Unable to run BokehJS code because BokehJS library is missing\");\n",
       "        }\n",
       "      }\n",
       "    }, 10, root)\n",
       "  }\n",
       "})(window);"
      ],
      "application/vnd.bokehjs_exec.v0+json": ""
     },
     "metadata": {
      "application/vnd.bokehjs_exec.v0+json": {
       "id": "9265"
      }
     },
     "output_type": "display_data"
    }
   ],
   "source": [
    "# Variation of consumption in France by hour\n",
    "\n",
    "output_file(\"styling_linear_mappers.html\", title=\"styling_linear_mappers.py example\")\n",
    "\n",
    "x = hour\n",
    "y = fr\n",
    "\n",
    "#Use the field name of the column source\n",
    "mapper = linear_cmap(field_name='y', palette=Spectral6 ,low=min(y) ,high=max(y))\n",
    "\n",
    "source = ColumnDataSource(dict(x=x,y=y))\n",
    "\n",
    "p = figure(plot_width=300, plot_height=300, title=\"Variation of consumption in France\")\n",
    "\n",
    "p.circle(x='x', y='y', line_color=mapper,color=mapper, fill_alpha=1, size=12, source=source)\n",
    "\n",
    "color_bar = ColorBar(color_mapper=mapper['transform'], width=8,  location=(0,0))\n",
    "\n",
    "p.add_layout(color_bar, 'right')\n",
    "\n",
    "show(p)"
   ]
  },
  {
   "cell_type": "code",
   "execution_count": 125,
   "metadata": {},
   "outputs": [],
   "source": [
    "gb = df_hour2['gb'].values"
   ]
  },
  {
   "cell_type": "code",
   "execution_count": 128,
   "metadata": {},
   "outputs": [
    {
     "data": {
      "text/html": [
       "\n",
       "\n",
       "\n",
       "\n",
       "\n",
       "\n",
       "  <div class=\"bk-root\" id=\"dda8870e-fe05-42b4-a965-f0cbc11f2d2b\" data-root-id=\"13618\"></div>\n"
      ]
     },
     "metadata": {},
     "output_type": "display_data"
    },
    {
     "data": {
      "application/javascript": [
       "(function(root) {\n",
       "  function embed_document(root) {\n",
       "    \n",
       "  var docs_json = {\"01eaa840-d534-4c28-85ae-02cf079d4da5\":{\"roots\":{\"references\":[{\"attributes\":{\"children\":[{\"id\":\"13616\"},{\"id\":\"13617\"}]},\"id\":\"13618\",\"type\":\"Column\"},{\"attributes\":{\"args\":{\"other\":{\"id\":\"13607\"}},\"code\":\"other.visible = this.active\"},\"id\":\"13615\",\"type\":\"CustomJS\"},{\"attributes\":{\"line_alpha\":0.1,\"line_color\":\"yellow\",\"x\":{\"field\":\"x\"},\"y\":{\"field\":\"y\"}},\"id\":\"13606\",\"type\":\"Line\"},{\"attributes\":{\"data\":{\"x\":[0,1,2,3,4,5,6,7,8,9,10,11,12,13,14,15,16,17,18,19,20,21,22,23],\"y\":{\"__ndarray__\":\"VsrUDPTi6D8TIJfEZCroPxjWlIWsP+c/FikGdkqw5j+3L+GPKsrmP3BFAaVKUek/w5QJQUut7T9XhtuejKbwPzBYxvcEkPE/zHVcVQsJ8j8FviHZ60ryP0xjShD0avI/XPG8WsI/8j/xU2MF8vrxP7uArDr2z/E/91KBGrEd8j/A8dRaLNDyP0vadwVTLvM/+HCCPRH+8j9sAYOeqGvyP1aK2kVsfvE/20NCvd8g8D84yrQQ6/LsP90LCRhJ/Ok/\",\"dtype\":\"float64\",\"order\":\"little\",\"shape\":[24]}},\"selected\":{\"id\":\"13949\"},\"selection_policy\":{\"id\":\"13950\"}},\"id\":\"13604\",\"type\":\"ColumnDataSource\"},{\"attributes\":{\"active\":true,\"button_type\":\"success\",\"icon\":null,\"js_property_callbacks\":{\"change:active\":[{\"id\":\"13611\"}]},\"label\":\"Night\"},\"id\":\"13610\",\"type\":\"Toggle\"},{\"attributes\":{\"active\":true,\"button_type\":\"success\",\"icon\":null,\"js_property_callbacks\":{\"change:active\":[{\"id\":\"13613\"}]},\"label\":\"Spain\"},\"id\":\"13612\",\"type\":\"Toggle\"},{\"attributes\":{},\"id\":\"13581\",\"type\":\"LinearScale\"},{\"attributes\":{\"children\":[{\"id\":\"13576\"}]},\"id\":\"13616\",\"type\":\"Row\"},{\"attributes\":{\"formatter\":{\"id\":\"13944\"},\"ticker\":{\"id\":\"13586\"}},\"id\":\"13585\",\"type\":\"LinearAxis\"},{\"attributes\":{\"axis\":{\"id\":\"13585\"},\"ticker\":null},\"id\":\"13588\",\"type\":\"Grid\"},{\"attributes\":{},\"id\":\"13942\",\"type\":\"BasicTickFormatter\"},{\"attributes\":{},\"id\":\"13586\",\"type\":\"BasicTicker\"},{\"attributes\":{},\"id\":\"13945\",\"type\":\"Selection\"},{\"attributes\":{\"children\":[{\"id\":\"13610\"},{\"id\":\"13612\"},{\"id\":\"13614\"}]},\"id\":\"13617\",\"type\":\"Row\"},{\"attributes\":{\"source\":{\"id\":\"13594\"}},\"id\":\"13598\",\"type\":\"CDSView\"},{\"attributes\":{},\"id\":\"13946\",\"type\":\"UnionRenderers\"},{\"attributes\":{\"data_source\":{\"id\":\"13604\"},\"glyph\":{\"id\":\"13605\"},\"hover_glyph\":null,\"muted_glyph\":null,\"nonselection_glyph\":{\"id\":\"13606\"},\"selection_glyph\":null,\"view\":{\"id\":\"13608\"}},\"id\":\"13607\",\"type\":\"GlyphRenderer\"},{\"attributes\":{\"axis\":{\"id\":\"13589\"},\"dimension\":1,\"ticker\":null},\"id\":\"13592\",\"type\":\"Grid\"},{\"attributes\":{},\"id\":\"13579\",\"type\":\"DataRange1d\"},{\"attributes\":{},\"id\":\"13590\",\"type\":\"BasicTicker\"},{\"attributes\":{\"formatter\":{\"id\":\"13942\"},\"ticker\":{\"id\":\"13590\"}},\"id\":\"13589\",\"type\":\"LinearAxis\"},{\"attributes\":{\"active_drag\":\"auto\",\"active_inspect\":\"auto\",\"active_multi\":null,\"active_scroll\":\"auto\",\"active_tap\":\"auto\"},\"id\":\"13593\",\"type\":\"Toolbar\"},{\"attributes\":{\"line_alpha\":0.1,\"line_color\":\"pink\",\"x\":{\"field\":\"x\"},\"y\":{\"field\":\"y\"}},\"id\":\"13601\",\"type\":\"Line\"},{\"attributes\":{\"source\":{\"id\":\"13604\"}},\"id\":\"13608\",\"type\":\"CDSView\"},{\"attributes\":{\"data\":{\"x\":[0,1,2,3,4,5,6,7,8,9,10,11,12,13,14,15,16,17,18,19,20,21,22,23],\"y\":{\"__ndarray__\":\"f/yboCwW7T+u1ZXTfOfrP9w4RS4o/eo/6iLi85Ix6z/anyjE3aHsP8WUoUzF1e4/3xmICnZk8D+waRaL1vrwP3ZMtDF4RfE/LpoDFtdq8T/ygrg0bJrxP3EgPeO2bPE/FklC2PEA8T8zLPhYY3rwP67Gr3QVA/A/W83ktkWp7z8mB4fqV0PwP18YCtIV/PA/mH2isDfz8D8ac/u6E2DwPzoHXfocN/A/vCfpozhu8D9JFfkD0uHvP26pp9pvNu4/\",\"dtype\":\"float64\",\"order\":\"little\",\"shape\":[24]}},\"selected\":{\"id\":\"13945\"},\"selection_policy\":{\"id\":\"13946\"}},\"id\":\"13594\",\"type\":\"ColumnDataSource\"},{\"attributes\":{\"active\":true,\"button_type\":\"success\",\"icon\":null,\"js_property_callbacks\":{\"change:active\":[{\"id\":\"13615\"}]},\"label\":\"Great Britain\"},\"id\":\"13614\",\"type\":\"Toggle\"},{\"attributes\":{\"below\":[{\"id\":\"13585\"}],\"center\":[{\"id\":\"13588\"},{\"id\":\"13592\"},{\"id\":\"13609\"}],\"left\":[{\"id\":\"13589\"}],\"plot_height\":200,\"renderers\":[{\"id\":\"13597\"},{\"id\":\"13602\"},{\"id\":\"13607\"}],\"title\":{\"id\":\"13939\"},\"toolbar\":{\"id\":\"13593\"},\"x_range\":{\"id\":\"13577\"},\"x_scale\":{\"id\":\"13581\"},\"y_range\":{\"id\":\"13579\"},\"y_scale\":{\"id\":\"13583\"}},\"id\":\"13576\",\"subtype\":\"Figure\",\"type\":\"Plot\"},{\"attributes\":{},\"id\":\"13583\",\"type\":\"LinearScale\"},{\"attributes\":{\"source\":{\"id\":\"13599\"}},\"id\":\"13603\",\"type\":\"CDSView\"},{\"attributes\":{},\"id\":\"13944\",\"type\":\"BasicTickFormatter\"},{\"attributes\":{},\"id\":\"13947\",\"type\":\"Selection\"},{\"attributes\":{},\"id\":\"13948\",\"type\":\"UnionRenderers\"},{\"attributes\":{},\"id\":\"13577\",\"type\":\"DataRange1d\"},{\"attributes\":{\"line_color\":\"yellow\",\"x\":{\"field\":\"x\"},\"y\":{\"field\":\"y\"}},\"id\":\"13605\",\"type\":\"Line\"},{\"attributes\":{\"text\":\"\"},\"id\":\"13939\",\"type\":\"Title\"},{\"attributes\":{\"args\":{\"other\":{\"id\":\"13609\"}},\"code\":\"other.visible = this.active\"},\"id\":\"13611\",\"type\":\"CustomJS\"},{\"attributes\":{\"args\":{\"other\":{\"id\":\"13602\"}},\"code\":\"other.visible = this.active\"},\"id\":\"13613\",\"type\":\"CustomJS\"},{\"attributes\":{\"data_source\":{\"id\":\"13594\"},\"glyph\":{\"id\":\"13595\"},\"hover_glyph\":null,\"muted_glyph\":null,\"nonselection_glyph\":{\"id\":\"13596\"},\"selection_glyph\":null,\"view\":{\"id\":\"13598\"}},\"id\":\"13597\",\"type\":\"GlyphRenderer\"},{\"attributes\":{\"line_color\":\"blue\",\"x\":{\"field\":\"x\"},\"y\":{\"field\":\"y\"}},\"id\":\"13595\",\"type\":\"Line\"},{\"attributes\":{\"line_color\":\"pink\",\"x\":{\"field\":\"x\"},\"y\":{\"field\":\"y\"}},\"id\":\"13600\",\"type\":\"Line\"},{\"attributes\":{},\"id\":\"13949\",\"type\":\"Selection\"},{\"attributes\":{\"line_alpha\":0.1,\"line_color\":\"blue\",\"x\":{\"field\":\"x\"},\"y\":{\"field\":\"y\"}},\"id\":\"13596\",\"type\":\"Line\"},{\"attributes\":{},\"id\":\"13950\",\"type\":\"UnionRenderers\"},{\"attributes\":{\"fill_alpha\":0.1,\"fill_color\":\"green\",\"left\":0,\"right\":5.5},\"id\":\"13609\",\"type\":\"BoxAnnotation\"},{\"attributes\":{\"data\":{\"x\":[0,1,2,3,4,5,6,7,8,9,10,11,12,13,14,15,16,17,18,19,20,21,22,23],\"y\":{\"__ndarray__\":\"Z0Rt12e76j+x5I3uedPpP3PG27L1aek/uSWIkX936T9nLYSakorqP//Wg7PJoOw/zaQTvk0r7z818bvyPp3wP1hojHymVvE/n6e0wgDE8T9IXc2du/jxPzpP8hFqAvI/GzlwDSfI8T8SPR2L4EzxP8N/KOFd/PA/Ox8FghbV8D+tw69n6cTwP6TRjgfYE/E/06HpyLmf8T9Cx8pCIAPyP8Bw1prcc/E/9TZ/ZxtG8D8VQyECPE3uP5Ys4zGMTew/\",\"dtype\":\"float64\",\"order\":\"little\",\"shape\":[24]}},\"selected\":{\"id\":\"13947\"},\"selection_policy\":{\"id\":\"13948\"}},\"id\":\"13599\",\"type\":\"ColumnDataSource\"},{\"attributes\":{\"data_source\":{\"id\":\"13599\"},\"glyph\":{\"id\":\"13600\"},\"hover_glyph\":null,\"muted_glyph\":null,\"nonselection_glyph\":{\"id\":\"13601\"},\"selection_glyph\":null,\"view\":{\"id\":\"13603\"}},\"id\":\"13602\",\"type\":\"GlyphRenderer\"}],\"root_ids\":[\"13618\"]},\"title\":\"Bokeh Application\",\"version\":\"2.2.1\"}};\n",
       "  var render_items = [{\"docid\":\"01eaa840-d534-4c28-85ae-02cf079d4da5\",\"root_ids\":[\"13618\"],\"roots\":{\"13618\":\"dda8870e-fe05-42b4-a965-f0cbc11f2d2b\"}}];\n",
       "  root.Bokeh.embed.embed_items_notebook(docs_json, render_items);\n",
       "\n",
       "  }\n",
       "  if (root.Bokeh !== undefined) {\n",
       "    embed_document(root);\n",
       "  } else {\n",
       "    var attempts = 0;\n",
       "    var timer = setInterval(function(root) {\n",
       "      if (root.Bokeh !== undefined) {\n",
       "        clearInterval(timer);\n",
       "        embed_document(root);\n",
       "      } else {\n",
       "        attempts++;\n",
       "        if (attempts > 100) {\n",
       "          clearInterval(timer);\n",
       "          console.log(\"Bokeh: ERROR: Unable to run BokehJS code because BokehJS library is missing\");\n",
       "        }\n",
       "      }\n",
       "    }, 10, root)\n",
       "  }\n",
       "})(window);"
      ],
      "application/vnd.bokehjs_exec.v0+json": ""
     },
     "metadata": {
      "application/vnd.bokehjs_exec.v0+json": {
       "id": "13618"
      }
     },
     "output_type": "display_data"
    }
   ],
   "source": [
    "# Variation of consumption in France compared to Spain by hour - greenbox showing night time\n",
    "\n",
    "output_file(\"styling_visible_annotation_with_interaction.html\")\n",
    "\n",
    "p = figure(plot_width=600, plot_height=200, tools='')\n",
    "p.line(hour, fr, line_color=\"blue\")\n",
    "pink_line = p.line(hour, es, line_color=\"pink\")\n",
    "yellow_line = p.line(hour, gb, line_color=\"yellow\")\n",
    "\n",
    "green_box = BoxAnnotation(left=0, right=5.5, fill_color='green', fill_alpha=0.1)\n",
    "p.add_layout(green_box)\n",
    "\n",
    "# Use js_link to connect button active property to glyph visible property\n",
    "\n",
    "toggle1 = Toggle(label=\"Night\", button_type=\"success\", active=True)\n",
    "toggle1.js_link('active', green_box, 'visible')\n",
    "\n",
    "toggle2 = Toggle(label=\"Spain\", button_type=\"success\", active=True)\n",
    "toggle2.js_link('active', pink_line, 'visible')\n",
    "\n",
    "toggle3 = Toggle(label=\"Great Britain\", button_type=\"success\", active=True)\n",
    "toggle3.js_link('active', yellow_line, 'visible')\n",
    "\n",
    "show(layout([p], [toggle1, toggle2, toggle3]))"
   ]
  },
  {
   "cell_type": "code",
   "execution_count": 130,
   "metadata": {},
   "outputs": [
    {
     "data": {
      "text/html": [
       "\n",
       "\n",
       "\n",
       "\n",
       "\n",
       "\n",
       "  <div class=\"bk-root\" id=\"c942a052-777f-4a91-8731-62a590bb76f5\" data-root-id=\"14654\"></div>\n"
      ]
     },
     "metadata": {},
     "output_type": "display_data"
    },
    {
     "data": {
      "application/javascript": [
       "(function(root) {\n",
       "  function embed_document(root) {\n",
       "    \n",
       "  var docs_json = {\"d7229596-eb93-42a7-b7c4-65ae38f9276a\":{\"roots\":{\"references\":[{\"attributes\":{\"background_fill_alpha\":0.5,\"background_fill_color\":\"beige\",\"below\":[{\"id\":\"14663\"}],\"center\":[{\"id\":\"14666\"},{\"id\":\"14670\"}],\"left\":[{\"id\":\"14667\"}],\"plot_height\":300,\"plot_width\":700,\"renderers\":[{\"id\":\"14688\"}],\"title\":{\"id\":\"15031\"},\"toolbar\":{\"id\":\"14678\"},\"x_range\":{\"id\":\"14655\"},\"x_scale\":{\"id\":\"14659\"},\"y_range\":{\"id\":\"14657\"},\"y_scale\":{\"id\":\"14661\"}},\"id\":\"14654\",\"subtype\":\"Figure\",\"type\":\"Plot\"},{\"attributes\":{},\"id\":\"15034\",\"type\":\"BasicTickFormatter\"},{\"attributes\":{\"bottom_units\":\"screen\",\"fill_alpha\":0.5,\"fill_color\":\"lightgrey\",\"left_units\":\"screen\",\"level\":\"overlay\",\"line_alpha\":1.0,\"line_color\":\"black\",\"line_dash\":[4,4],\"line_width\":2,\"right_units\":\"screen\",\"top_units\":\"screen\"},\"id\":\"14677\",\"type\":\"BoxAnnotation\"},{\"attributes\":{},\"id\":\"14664\",\"type\":\"BasicTicker\"},{\"attributes\":{},\"id\":\"15036\",\"type\":\"BasicTickFormatter\"},{\"attributes\":{},\"id\":\"14659\",\"type\":\"LinearScale\"},{\"attributes\":{},\"id\":\"14674\",\"type\":\"SaveTool\"},{\"attributes\":{},\"id\":\"14675\",\"type\":\"ResetTool\"},{\"attributes\":{\"fill_color\":{\"value\":\"green\"},\"line_color\":{\"value\":\"green\"},\"size\":{\"units\":\"screen\",\"value\":10},\"x\":{\"field\":\"x\"},\"y\":{\"field\":\"y\"}},\"id\":\"14686\",\"type\":\"Circle\"},{\"attributes\":{},\"id\":\"14655\",\"type\":\"DataRange1d\"},{\"attributes\":{},\"id\":\"14668\",\"type\":\"BasicTicker\"},{\"attributes\":{\"formatter\":{\"id\":\"15034\"},\"ticker\":{\"id\":\"14668\"}},\"id\":\"14667\",\"type\":\"LinearAxis\"},{\"attributes\":{},\"id\":\"14661\",\"type\":\"LinearScale\"},{\"attributes\":{\"axis\":{\"id\":\"14667\"},\"dimension\":1,\"ticker\":null},\"id\":\"14670\",\"type\":\"Grid\"},{\"attributes\":{},\"id\":\"14672\",\"type\":\"WheelZoomTool\"},{\"attributes\":{\"axis\":{\"id\":\"14663\"},\"ticker\":null},\"id\":\"14666\",\"type\":\"Grid\"},{\"attributes\":{\"formatter\":{\"id\":\"15036\"},\"ticker\":{\"id\":\"14664\"}},\"id\":\"14663\",\"type\":\"LinearAxis\"},{\"attributes\":{\"overlay\":{\"id\":\"14677\"}},\"id\":\"14673\",\"type\":\"BoxZoomTool\"},{\"attributes\":{},\"id\":\"14676\",\"type\":\"HelpTool\"},{\"attributes\":{},\"id\":\"15037\",\"type\":\"Selection\"},{\"attributes\":{\"data_source\":{\"id\":\"14685\"},\"glyph\":{\"id\":\"14686\"},\"hover_glyph\":null,\"muted_glyph\":null,\"nonselection_glyph\":{\"id\":\"14687\"},\"selection_glyph\":null,\"view\":{\"id\":\"14689\"}},\"id\":\"14688\",\"type\":\"GlyphRenderer\"},{\"attributes\":{\"fill_alpha\":{\"value\":0.1},\"fill_color\":{\"value\":\"green\"},\"line_alpha\":{\"value\":0.1},\"line_color\":{\"value\":\"green\"},\"size\":{\"units\":\"screen\",\"value\":10},\"x\":{\"field\":\"x\"},\"y\":{\"field\":\"y\"}},\"id\":\"14687\",\"type\":\"Circle\"},{\"attributes\":{},\"id\":\"15038\",\"type\":\"UnionRenderers\"},{\"attributes\":{},\"id\":\"14657\",\"type\":\"DataRange1d\"},{\"attributes\":{},\"id\":\"14671\",\"type\":\"PanTool\"},{\"attributes\":{\"data\":{\"x\":[0,1,2,3,4,5,6,7,8,9,10,11,12,13,14,15,16,17,18,19,20,21,22,23],\"y\":{\"__ndarray__\":\"f/yboCwW7T+u1ZXTfOfrP9w4RS4o/eo/6iLi85Ix6z/anyjE3aHsP8WUoUzF1e4/3xmICnZk8D+waRaL1vrwP3ZMtDF4RfE/LpoDFtdq8T/ygrg0bJrxP3EgPeO2bPE/FklC2PEA8T8zLPhYY3rwP67Gr3QVA/A/W83ktkWp7z8mB4fqV0PwP18YCtIV/PA/mH2isDfz8D8ac/u6E2DwPzoHXfocN/A/vCfpozhu8D9JFfkD0uHvP26pp9pvNu4/\",\"dtype\":\"float64\",\"order\":\"little\",\"shape\":[24]}},\"selected\":{\"id\":\"15037\"},\"selection_policy\":{\"id\":\"15038\"}},\"id\":\"14685\",\"type\":\"ColumnDataSource\"},{\"attributes\":{\"source\":{\"id\":\"14685\"}},\"id\":\"14689\",\"type\":\"CDSView\"},{\"attributes\":{\"text\":\"\"},\"id\":\"15031\",\"type\":\"Title\"},{\"attributes\":{\"active_drag\":\"auto\",\"active_inspect\":\"auto\",\"active_multi\":null,\"active_scroll\":\"auto\",\"active_tap\":\"auto\",\"tools\":[{\"id\":\"14671\"},{\"id\":\"14672\"},{\"id\":\"14673\"},{\"id\":\"14674\"},{\"id\":\"14675\"},{\"id\":\"14676\"}]},\"id\":\"14678\",\"type\":\"Toolbar\"}],\"root_ids\":[\"14654\"]},\"title\":\"Bokeh Application\",\"version\":\"2.2.1\"}};\n",
       "  var render_items = [{\"docid\":\"d7229596-eb93-42a7-b7c4-65ae38f9276a\",\"root_ids\":[\"14654\"],\"roots\":{\"14654\":\"c942a052-777f-4a91-8731-62a590bb76f5\"}}];\n",
       "  root.Bokeh.embed.embed_items_notebook(docs_json, render_items);\n",
       "\n",
       "  }\n",
       "  if (root.Bokeh !== undefined) {\n",
       "    embed_document(root);\n",
       "  } else {\n",
       "    var attempts = 0;\n",
       "    var timer = setInterval(function(root) {\n",
       "      if (root.Bokeh !== undefined) {\n",
       "        clearInterval(timer);\n",
       "        embed_document(root);\n",
       "      } else {\n",
       "        attempts++;\n",
       "        if (attempts > 100) {\n",
       "          clearInterval(timer);\n",
       "          console.log(\"Bokeh: ERROR: Unable to run BokehJS code because BokehJS library is missing\");\n",
       "        }\n",
       "      }\n",
       "    }, 10, root)\n",
       "  }\n",
       "})(window);"
      ],
      "application/vnd.bokehjs_exec.v0+json": ""
     },
     "metadata": {
      "application/vnd.bokehjs_exec.v0+json": {
       "id": "14654"
      }
     },
     "output_type": "display_data"
    }
   ],
   "source": [
    "# Variation of consumption in France by hour\n",
    "\n",
    "output_file(\"french_consumption.html\")\n",
    "\n",
    "# create a new plot with specific dimensions\n",
    "p = figure(plot_width=700)\n",
    "p.plot_height = 300\n",
    "\n",
    "p.background_fill_color = \"beige\"\n",
    "p.background_fill_alpha = 0.5\n",
    "\n",
    "p.circle(hour, fr, size=10, color='green')\n",
    "\n",
    "show(p)"
   ]
  },
  {
   "cell_type": "code",
   "execution_count": 131,
   "metadata": {},
   "outputs": [
    {
     "data": {
      "text/html": [
       "\n",
       "\n",
       "\n",
       "\n",
       "\n",
       "\n",
       "  <div class=\"bk-root\" id=\"d0f30df7-aecb-4f1b-83e4-47e2f7dd93d1\" data-root-id=\"15185\"></div>\n"
      ]
     },
     "metadata": {},
     "output_type": "display_data"
    },
    {
     "data": {
      "application/javascript": [
       "(function(root) {\n",
       "  function embed_document(root) {\n",
       "    \n",
       "  var docs_json = {\"9198d13c-4537-4fd1-910a-3a8c1eb78189\":{\"roots\":{\"references\":[{\"attributes\":{\"below\":[{\"id\":\"15194\"}],\"center\":[{\"id\":\"15197\"},{\"id\":\"15201\"}],\"left\":[{\"id\":\"15198\"}],\"plot_height\":400,\"plot_width\":400,\"renderers\":[{\"id\":\"15219\"}],\"title\":{\"id\":\"15571\"},\"toolbar\":{\"id\":\"15209\"},\"x_range\":{\"id\":\"15186\"},\"x_scale\":{\"id\":\"15190\"},\"y_range\":{\"id\":\"15188\"},\"y_scale\":{\"id\":\"15192\"}},\"id\":\"15185\",\"subtype\":\"Figure\",\"type\":\"Plot\"},{\"attributes\":{\"bottom_units\":\"screen\",\"fill_alpha\":0.5,\"fill_color\":\"lightgrey\",\"left_units\":\"screen\",\"level\":\"overlay\",\"line_alpha\":1.0,\"line_color\":\"black\",\"line_dash\":[4,4],\"line_width\":2,\"right_units\":\"screen\",\"top_units\":\"screen\"},\"id\":\"15208\",\"type\":\"BoxAnnotation\"},{\"attributes\":{},\"id\":\"15188\",\"type\":\"DataRange1d\"},{\"attributes\":{},\"id\":\"15574\",\"type\":\"BasicTickFormatter\"},{\"attributes\":{},\"id\":\"15186\",\"type\":\"DataRange1d\"},{\"attributes\":{},\"id\":\"15576\",\"type\":\"BasicTickFormatter\"},{\"attributes\":{},\"id\":\"15195\",\"type\":\"BasicTicker\"},{\"attributes\":{\"formatter\":{\"id\":\"15576\"},\"ticker\":{\"id\":\"15195\"}},\"id\":\"15194\",\"type\":\"LinearAxis\"},{\"attributes\":{},\"id\":\"15199\",\"type\":\"BasicTicker\"},{\"attributes\":{},\"id\":\"15207\",\"type\":\"HelpTool\"},{\"attributes\":{},\"id\":\"15190\",\"type\":\"LinearScale\"},{\"attributes\":{\"formatter\":{\"id\":\"15574\"},\"ticker\":{\"id\":\"15199\"}},\"id\":\"15198\",\"type\":\"LinearAxis\"},{\"attributes\":{\"axis\":{\"id\":\"15194\"},\"ticker\":null},\"id\":\"15197\",\"type\":\"Grid\"},{\"attributes\":{},\"id\":\"15192\",\"type\":\"LinearScale\"},{\"attributes\":{\"text\":\"\"},\"id\":\"15571\",\"type\":\"Title\"},{\"attributes\":{\"axis\":{\"id\":\"15198\"},\"dimension\":1,\"ticker\":null},\"id\":\"15201\",\"type\":\"Grid\"},{\"attributes\":{\"active_drag\":\"auto\",\"active_inspect\":\"auto\",\"active_multi\":null,\"active_scroll\":\"auto\",\"active_tap\":\"auto\",\"tools\":[{\"id\":\"15202\"},{\"id\":\"15203\"},{\"id\":\"15204\"},{\"id\":\"15205\"},{\"id\":\"15206\"},{\"id\":\"15207\"}]},\"id\":\"15209\",\"type\":\"Toolbar\"},{\"attributes\":{},\"id\":\"15202\",\"type\":\"PanTool\"},{\"attributes\":{\"data_source\":{\"id\":\"15216\"},\"glyph\":{\"id\":\"15217\"},\"hover_glyph\":null,\"muted_glyph\":null,\"nonselection_glyph\":{\"id\":\"15218\"},\"selection_glyph\":null,\"view\":{\"id\":\"15220\"}},\"id\":\"15219\",\"type\":\"GlyphRenderer\"},{\"attributes\":{},\"id\":\"15203\",\"type\":\"WheelZoomTool\"},{\"attributes\":{},\"id\":\"15577\",\"type\":\"Selection\"},{\"attributes\":{\"overlay\":{\"id\":\"15208\"}},\"id\":\"15204\",\"type\":\"BoxZoomTool\"},{\"attributes\":{\"fill_alpha\":{\"value\":0.1},\"fill_color\":{\"value\":\"#1f77b4\"},\"line_alpha\":{\"value\":0.1},\"line_color\":{\"value\":\"#1f77b4\"},\"x\":{\"field\":\"x\"},\"y\":{\"field\":\"y\"}},\"id\":\"15218\",\"type\":\"Circle\"},{\"attributes\":{\"fill_alpha\":{\"value\":0.2},\"fill_color\":{\"value\":\"#1f77b4\"},\"line_color\":{\"value\":\"firebrick\"},\"line_dash\":[6,3],\"line_width\":{\"value\":2},\"size\":{\"units\":\"screen\",\"value\":60},\"x\":{\"field\":\"x\"},\"y\":{\"field\":\"y\"}},\"id\":\"15217\",\"type\":\"Circle\"},{\"attributes\":{},\"id\":\"15205\",\"type\":\"SaveTool\"},{\"attributes\":{},\"id\":\"15578\",\"type\":\"UnionRenderers\"},{\"attributes\":{},\"id\":\"15206\",\"type\":\"ResetTool\"},{\"attributes\":{\"source\":{\"id\":\"15216\"}},\"id\":\"15220\",\"type\":\"CDSView\"},{\"attributes\":{\"data\":{\"x\":[0,1,2,3,4,5,6,7,8,9,10,11,12,13,14,15,16,17,18,19,20,21,22,23],\"y\":{\"__ndarray__\":\"f/yboCwW7T+u1ZXTfOfrP9w4RS4o/eo/6iLi85Ix6z/anyjE3aHsP8WUoUzF1e4/3xmICnZk8D+waRaL1vrwP3ZMtDF4RfE/LpoDFtdq8T/ygrg0bJrxP3EgPeO2bPE/FklC2PEA8T8zLPhYY3rwP67Gr3QVA/A/W83ktkWp7z8mB4fqV0PwP18YCtIV/PA/mH2isDfz8D8ac/u6E2DwPzoHXfocN/A/vCfpozhu8D9JFfkD0uHvP26pp9pvNu4/\",\"dtype\":\"float64\",\"order\":\"little\",\"shape\":[24]}},\"selected\":{\"id\":\"15577\"},\"selection_policy\":{\"id\":\"15578\"}},\"id\":\"15216\",\"type\":\"ColumnDataSource\"}],\"root_ids\":[\"15185\"]},\"title\":\"Bokeh Application\",\"version\":\"2.2.1\"}};\n",
       "  var render_items = [{\"docid\":\"9198d13c-4537-4fd1-910a-3a8c1eb78189\",\"root_ids\":[\"15185\"],\"roots\":{\"15185\":\"d0f30df7-aecb-4f1b-83e4-47e2f7dd93d1\"}}];\n",
       "  root.Bokeh.embed.embed_items_notebook(docs_json, render_items);\n",
       "\n",
       "  }\n",
       "  if (root.Bokeh !== undefined) {\n",
       "    embed_document(root);\n",
       "  } else {\n",
       "    var attempts = 0;\n",
       "    var timer = setInterval(function(root) {\n",
       "      if (root.Bokeh !== undefined) {\n",
       "        clearInterval(timer);\n",
       "        embed_document(root);\n",
       "      } else {\n",
       "        attempts++;\n",
       "        if (attempts > 100) {\n",
       "          clearInterval(timer);\n",
       "          console.log(\"Bokeh: ERROR: Unable to run BokehJS code because BokehJS library is missing\");\n",
       "        }\n",
       "      }\n",
       "    }, 10, root)\n",
       "  }\n",
       "})(window);"
      ],
      "application/vnd.bokehjs_exec.v0+json": ""
     },
     "metadata": {
      "application/vnd.bokehjs_exec.v0+json": {
       "id": "15185"
      }
     },
     "output_type": "display_data"
    }
   ],
   "source": [
    "# Variation of consumption in France by hour\n",
    "\n",
    "output_file(\"french_consumption.html\")\n",
    "\n",
    "p = figure(plot_width=400, plot_height=400)\n",
    "r = p.circle(hour, fr)\n",
    "\n",
    "glyph = r.glyph\n",
    "glyph.size = 60\n",
    "glyph.fill_alpha = 0.2\n",
    "glyph.line_color = \"firebrick\"\n",
    "glyph.line_dash = [6, 3]\n",
    "glyph.line_width = 2\n",
    "\n",
    "show(p)"
   ]
  },
  {
   "cell_type": "code",
   "execution_count": 135,
   "metadata": {},
   "outputs": [
    {
     "data": {
      "text/html": [
       "\n",
       "\n",
       "\n",
       "\n",
       "\n",
       "\n",
       "  <div class=\"bk-root\" id=\"ce20f622-7cba-4575-a7eb-355b6327babf\" data-root-id=\"16475\"></div>\n"
      ]
     },
     "metadata": {},
     "output_type": "display_data"
    },
    {
     "data": {
      "application/javascript": [
       "(function(root) {\n",
       "  function embed_document(root) {\n",
       "    \n",
       "  var docs_json = {\"bf052b08-25e4-45f5-ac66-867fff90118f\":{\"roots\":{\"references\":[{\"attributes\":{\"below\":[{\"id\":\"16486\"}],\"center\":[{\"id\":\"16489\"},{\"id\":\"16493\"}],\"left\":[{\"id\":\"16490\"}],\"plot_height\":300,\"renderers\":[{\"id\":\"16498\"},{\"id\":\"16504\"}],\"title\":{\"id\":\"16476\"},\"toolbar\":{\"id\":\"16494\"},\"toolbar_location\":null,\"x_range\":{\"id\":\"16478\"},\"x_scale\":{\"id\":\"16482\"},\"y_range\":{\"id\":\"16480\"},\"y_scale\":{\"id\":\"16484\"}},\"id\":\"16475\",\"subtype\":\"Figure\",\"type\":\"Plot\"},{\"attributes\":{\"axis\":{\"id\":\"16490\"},\"dimension\":1,\"ticker\":null},\"id\":\"16493\",\"type\":\"Grid\"},{\"attributes\":{\"active_drag\":\"auto\",\"active_inspect\":\"auto\",\"active_multi\":null,\"active_scroll\":\"auto\",\"active_tap\":\"auto\",\"tools\":[{\"id\":\"16506\"}]},\"id\":\"16494\",\"type\":\"Toolbar\"},{\"attributes\":{},\"id\":\"16896\",\"type\":\"UnionRenderers\"},{\"attributes\":{\"data\":{\"x\":[0,1,2,3,4,5,6,7,8,9,10,11,12,13,14,15,16,17,18,19,20,21,22,23],\"y\":{\"__ndarray__\":\"f/yboCwW7T+u1ZXTfOfrP9w4RS4o/eo/6iLi85Ix6z/anyjE3aHsP8WUoUzF1e4/3xmICnZk8D+waRaL1vrwP3ZMtDF4RfE/LpoDFtdq8T/ygrg0bJrxP3EgPeO2bPE/FklC2PEA8T8zLPhYY3rwP67Gr3QVA/A/W83ktkWp7z8mB4fqV0PwP18YCtIV/PA/mH2isDfz8D8ac/u6E2DwPzoHXfocN/A/vCfpozhu8D9JFfkD0uHvP26pp9pvNu4/\",\"dtype\":\"float64\",\"order\":\"little\",\"shape\":[24]}},\"selected\":{\"id\":\"16893\"},\"selection_policy\":{\"id\":\"16894\"}},\"id\":\"16495\",\"type\":\"ColumnDataSource\"},{\"attributes\":{\"line_color\":\"gray\",\"line_dash\":[4,4],\"x\":{\"field\":\"x\"},\"y\":{\"field\":\"y\"}},\"id\":\"16496\",\"type\":\"Line\"},{\"attributes\":{},\"id\":\"16890\",\"type\":\"BasicTickFormatter\"},{\"attributes\":{},\"id\":\"16892\",\"type\":\"BasicTickFormatter\"},{\"attributes\":{\"data\":{\"x\":[0,1,2,3,4,5,6,7,8,9,10,11,12,13,14,15,16,17,18,19,20,21,22,23],\"y\":{\"__ndarray__\":\"f/yboCwW7T+u1ZXTfOfrP9w4RS4o/eo/6iLi85Ix6z/anyjE3aHsP8WUoUzF1e4/3xmICnZk8D+waRaL1vrwP3ZMtDF4RfE/LpoDFtdq8T/ygrg0bJrxP3EgPeO2bPE/FklC2PEA8T8zLPhYY3rwP67Gr3QVA/A/W83ktkWp7z8mB4fqV0PwP18YCtIV/PA/mH2isDfz8D8ac/u6E2DwPzoHXfocN/A/vCfpozhu8D9JFfkD0uHvP26pp9pvNu4/\",\"dtype\":\"float64\",\"order\":\"little\",\"shape\":[24]}},\"selected\":{\"id\":\"16895\"},\"selection_policy\":{\"id\":\"16896\"}},\"id\":\"16500\",\"type\":\"ColumnDataSource\"},{\"attributes\":{\"source\":{\"id\":\"16495\"}},\"id\":\"16499\",\"type\":\"CDSView\"},{\"attributes\":{},\"id\":\"16487\",\"type\":\"BasicTicker\"},{\"attributes\":{},\"id\":\"16894\",\"type\":\"UnionRenderers\"},{\"attributes\":{\"data_source\":{\"id\":\"16495\"},\"glyph\":{\"id\":\"16496\"},\"hover_glyph\":null,\"muted_glyph\":null,\"nonselection_glyph\":{\"id\":\"16497\"},\"selection_glyph\":null,\"view\":{\"id\":\"16499\"}},\"id\":\"16498\",\"type\":\"GlyphRenderer\"},{\"attributes\":{},\"id\":\"16895\",\"type\":\"Selection\"},{\"attributes\":{\"fill_alpha\":{\"value\":0.1},\"fill_color\":{\"value\":\"grey\"},\"line_alpha\":{\"value\":0.1},\"line_color\":{\"value\":null},\"size\":{\"units\":\"screen\",\"value\":20},\"x\":{\"field\":\"x\"},\"y\":{\"field\":\"y\"}},\"id\":\"16502\",\"type\":\"Circle\"},{\"attributes\":{\"callback\":null,\"mode\":\"hline\",\"renderers\":[{\"id\":\"16504\"}],\"tooltips\":null},\"id\":\"16506\",\"type\":\"HoverTool\"},{\"attributes\":{\"fill_alpha\":{\"value\":0.3},\"fill_color\":{\"value\":\"firebrick\"},\"line_alpha\":{\"value\":0.3},\"line_color\":{\"value\":\"white\"},\"size\":{\"units\":\"screen\",\"value\":20},\"x\":{\"field\":\"x\"},\"y\":{\"field\":\"y\"}},\"id\":\"16503\",\"type\":\"Circle\"},{\"attributes\":{},\"id\":\"16491\",\"type\":\"BasicTicker\"},{\"attributes\":{\"axis\":{\"id\":\"16486\"},\"ticker\":null},\"id\":\"16489\",\"type\":\"Grid\"},{\"attributes\":{\"fill_alpha\":{\"value\":0.05},\"fill_color\":{\"value\":\"grey\"},\"line_color\":{\"value\":null},\"size\":{\"units\":\"screen\",\"value\":20},\"x\":{\"field\":\"x\"},\"y\":{\"field\":\"y\"}},\"id\":\"16501\",\"type\":\"Circle\"},{\"attributes\":{\"formatter\":{\"id\":\"16892\"},\"ticker\":{\"id\":\"16487\"}},\"id\":\"16486\",\"type\":\"LinearAxis\"},{\"attributes\":{\"source\":{\"id\":\"16500\"}},\"id\":\"16505\",\"type\":\"CDSView\"},{\"attributes\":{},\"id\":\"16484\",\"type\":\"LinearScale\"},{\"attributes\":{\"data_source\":{\"id\":\"16500\"},\"glyph\":{\"id\":\"16501\"},\"hover_glyph\":{\"id\":\"16503\"},\"muted_glyph\":null,\"nonselection_glyph\":{\"id\":\"16502\"},\"selection_glyph\":null,\"view\":{\"id\":\"16505\"}},\"id\":\"16504\",\"type\":\"GlyphRenderer\"},{\"attributes\":{\"text\":\"Variation of consumption in Fr\"},\"id\":\"16476\",\"type\":\"Title\"},{\"attributes\":{},\"id\":\"16893\",\"type\":\"Selection\"},{\"attributes\":{},\"id\":\"16480\",\"type\":\"DataRange1d\"},{\"attributes\":{\"formatter\":{\"id\":\"16890\"},\"ticker\":{\"id\":\"16491\"}},\"id\":\"16490\",\"type\":\"LinearAxis\"},{\"attributes\":{},\"id\":\"16478\",\"type\":\"DataRange1d\"},{\"attributes\":{},\"id\":\"16482\",\"type\":\"LinearScale\"},{\"attributes\":{\"line_alpha\":0.1,\"line_color\":\"gray\",\"line_dash\":[4,4],\"x\":{\"field\":\"x\"},\"y\":{\"field\":\"y\"}},\"id\":\"16497\",\"type\":\"Line\"}],\"root_ids\":[\"16475\"]},\"title\":\"Bokeh Application\",\"version\":\"2.2.1\"}};\n",
       "  var render_items = [{\"docid\":\"bf052b08-25e4-45f5-ac66-867fff90118f\",\"root_ids\":[\"16475\"],\"roots\":{\"16475\":\"ce20f622-7cba-4575-a7eb-355b6327babf\"}}];\n",
       "  root.Bokeh.embed.embed_items_notebook(docs_json, render_items);\n",
       "\n",
       "  }\n",
       "  if (root.Bokeh !== undefined) {\n",
       "    embed_document(root);\n",
       "  } else {\n",
       "    var attempts = 0;\n",
       "    var timer = setInterval(function(root) {\n",
       "      if (root.Bokeh !== undefined) {\n",
       "        clearInterval(timer);\n",
       "        embed_document(root);\n",
       "      } else {\n",
       "        attempts++;\n",
       "        if (attempts > 100) {\n",
       "          clearInterval(timer);\n",
       "          console.log(\"Bokeh: ERROR: Unable to run BokehJS code because BokehJS library is missing\");\n",
       "        }\n",
       "      }\n",
       "    }, 10, root)\n",
       "  }\n",
       "})(window);"
      ],
      "application/vnd.bokehjs_exec.v0+json": ""
     },
     "metadata": {
      "application/vnd.bokehjs_exec.v0+json": {
       "id": "16475"
      }
     },
     "output_type": "display_data"
    }
   ],
   "source": [
    "# Variation of consumption in France by hour\n",
    "\n",
    "output_file(\"fr_consumption.html\")\n",
    "\n",
    "\n",
    "\n",
    "# Basic plot setup\n",
    "plot = figure(plot_width=600, plot_height=300, tools=\"\",\n",
    "              toolbar_location=None, title='Variation of consumption in Fr')\n",
    "\n",
    "plot.line(hour, fr, line_dash=\"4 4\", line_width=1, color='gray')\n",
    "\n",
    "cr = plot.circle(x, y, size=20,\n",
    "                fill_color=\"grey\", hover_fill_color=\"firebrick\",\n",
    "                fill_alpha=0.05, hover_alpha=0.3,\n",
    "                line_color=None, hover_line_color=\"white\")\n",
    "\n",
    "plot.add_tools(HoverTool(tooltips=None, renderers=[cr], mode='hline'))\n",
    "\n",
    "show(plot)"
   ]
  },
  {
   "cell_type": "code",
   "execution_count": null,
   "metadata": {},
   "outputs": [],
   "source": []
  }
 ],
 "metadata": {
  "kernelspec": {
   "display_name": "Python 3",
   "language": "python",
   "name": "python3"
  },
  "language_info": {
   "codemirror_mode": {
    "name": "ipython",
    "version": 3
   },
   "file_extension": ".py",
   "mimetype": "text/x-python",
   "name": "python",
   "nbconvert_exporter": "python",
   "pygments_lexer": "ipython3",
   "version": "3.8.5"
  }
 },
 "nbformat": 4,
 "nbformat_minor": 4
}
